{
 "cells": [
  {
   "cell_type": "markdown",
   "id": "4922b90c-6c58-43cf-8e2c-334dfafa2864",
   "metadata": {},
   "source": [
    "# Using Real Spectral Fits, Generate Host + [sncosmo](https://sncosmo.readthedocs.io) CCSN Models"
   ]
  },
  {
   "cell_type": "code",
   "execution_count": 18,
   "id": "d762fe09-60bb-4a5d-b6ef-b54c4ce61d87",
   "metadata": {},
   "outputs": [],
   "source": [
    "from sncosmo.models import Model\n",
    "\n",
    "from desisim.scripts.quickspectra import sim_spectra\n",
    "from desispec.spectra import Spectra\n",
    "from desispec.io import read_spectra\n",
    "from desispec.coaddition import coadd_cameras\n",
    "from desispec.resolution import Resolution\n",
    "from desispec.interpolation import resample_flux\n",
    "\n",
    "from speclite import filters\n",
    "rfilt = filters.load_filters('decam2014-r')\n",
    "\n",
    "import redrock.templates\n",
    "import pickle\n",
    "\n",
    "from astropy import units as u\n",
    "from astropy.table import Table, vstack, join\n",
    "\n",
    "import os\n",
    "from glob import glob\n",
    "\n",
    "from scipy.ndimage import gaussian_filter\n",
    "\n",
    "import sncosmo\n",
    "import numpy as np\n",
    "import random\n",
    "import matplotlib as mpl\n",
    "import matplotlib.pyplot as plt"
   ]
  },
  {
   "cell_type": "code",
   "execution_count": 19,
   "id": "d49a2dd1-85d9-400b-bf96-1744571df348",
   "metadata": {},
   "outputs": [],
   "source": [
    "mpl.rc('font', size=14)"
   ]
  },
  {
   "cell_type": "markdown",
   "id": "a771f7a0-2a36-49db-96a7-f16850993497",
   "metadata": {},
   "source": [
    "## Access Conditions Data\n",
    "\n",
    "### Conditions Database Produced by Aaron Meisner"
   ]
  },
  {
   "cell_type": "code",
   "execution_count": 20,
   "id": "d5c38dac-8df5-4ca8-9917-5b09c5206729",
   "metadata": {},
   "outputs": [],
   "source": [
    "matched_cond_files = sorted(glob('/global/cfs/cdirs/desi/users/ameisner/GFA/conditions/offline_matched_coadd_ccds_SV1-thru_*fits'))\n",
    "obsconditions = Table.read(matched_cond_files[-1], 3)"
   ]
  },
  {
   "cell_type": "markdown",
   "id": "491a7baa-2de8-4df0-81e4-f7867b13ba79",
   "metadata": {},
   "source": [
    "### Exposure Tables for Our Chosen Spectroscopic Reduction"
   ]
  },
  {
   "cell_type": "code",
   "execution_count": 21,
   "id": "6a878591-b6a6-4f03-8d7b-7abd8d963eb7",
   "metadata": {},
   "outputs": [],
   "source": [
    "prefix = os.environ['DESI_SPECTRO_REDUX']\n",
    "redux = 'everest'\n",
    "exptab_redux = None\n",
    "\n",
    "# Loop through all exposure tables corresponding to the chosen pipeline reduction (denali, everest, fuji, ...)\n",
    "exposure_tables = sorted(glob('{}/{}/exposure_tables/2*/*.csv'.format(prefix, redux)))\n",
    "columns = ['EXPID', 'EXPTIME', 'OBSTYPE', 'TILEID', 'FA_SURV', 'PROGRAM', 'TARGTRA', 'TARGTDEC', 'NIGHT']\n",
    "\n",
    "for i, exposure_table in enumerate(exposure_tables):\n",
    "    exptab = Table.read(exposure_table, format='csv')[columns]\n",
    "    \n",
    "    # Remove rows where FA_SURV and PROGRAM are masked.\n",
    "    select = np.ones(len(exptab), dtype=bool)\n",
    "    if hasattr(exptab['PROGRAM'], 'mask'):\n",
    "        select = select & ~exptab['PROGRAM'].mask\n",
    "    if hasattr(exptab['FA_SURV'], 'mask'):\n",
    "        select = select & ~exptab['FA_SURV'].mask\n",
    "    exptab = exptab[select]\n",
    "    \n",
    "    if np.any(select):\n",
    "        select = exptab['PROGRAM'] == 'bright'\n",
    "        exptab = exptab[select]\n",
    "        \n",
    "        if exptab_redux is None:\n",
    "            exptab_redux = exptab\n",
    "        else:\n",
    "            exptab_redux = vstack([exptab_redux, exptab])"
   ]
  },
  {
   "cell_type": "markdown",
   "id": "275b9719-4078-4dd4-ae8a-59de16c9c18b",
   "metadata": {},
   "source": [
    "#### Join Redux Exposure Table and Obs Conditions Table"
   ]
  },
  {
   "cell_type": "code",
   "execution_count": 22,
   "id": "3e3e812f-e853-4666-89c5-3fc679f49e33",
   "metadata": {},
   "outputs": [
    {
     "data": {
      "text/html": [
       "<i>Table length=738</i>\n",
       "<table id=\"table46913404973168\" class=\"table-striped table-bordered table-condensed\">\n",
       "<thead><tr><th>EXPID</th><th>EXPTIME</th><th>OBSTYPE</th><th>TILEID</th><th>FA_SURV</th><th>PROGRAM</th><th>TARGTRA</th><th>TARGTDEC</th><th>NIGHT</th><th>SKYRA</th><th>SKYDEC</th><th>MOON_ILLUMINATION</th><th>MOON_ZD_DEG</th><th>MOON_SEP_DEG</th><th>MJD</th><th>FWHM_ASEC</th><th>TRANSPARENCY</th><th>SKY_MAG_AB</th><th>FIBER_FRACFLUX</th><th>FIBER_FRACFLUX_ELG</th><th>FIBER_FRACFLUX_BGS</th><th>AIRMASS</th><th>RADPROF_FWHM_ASEC</th><th>FIBERFAC</th><th>FIBERFAC_ELG</th><th>FIBERFAC_BGS</th></tr></thead>\n",
       "<thead><tr><th>int64</th><th>float64</th><th>str7</th><th>int64</th><th>str7</th><th>str85</th><th>float64</th><th>float64</th><th>int64</th><th>float64</th><th>float64</th><th>float64</th><th>float64</th><th>float64</th><th>float64</th><th>float64</th><th>float64</th><th>float64</th><th>float64</th><th>float64</th><th>float64</th><th>float64</th><th>float64</th><th>float64</th><th>float64</th><th>float64</th></tr></thead>\n",
       "<tr><td>81839</td><td>656.9011</td><td>science</td><td>81056</td><td>sv2</td><td>bright</td><td>171.412642</td><td>50.92891</td><td>20210324</td><td>171.412642</td><td>50.92891</td><td>0.8375508202612056</td><td>14.927902410006718</td><td>37.780937931511055</td><td>59298.22121791687</td><td>0.978621148692607</td><td>1.0049289745540513</td><td>19.085540380575374</td><td>0.6336533767028059</td><td>0.4514740647587236</td><td>0.20586830587955238</td><td>1.0965814645396126</td><td>1.0084405415085644</td><td>1.0384483396917168</td><td>1.0146258767949523</td><td>1.004522271199225</td></tr>\n",
       "<tr><td>81840</td><td>656.9165</td><td>science</td><td>81056</td><td>sv2</td><td>bright</td><td>171.411559</td><td>50.928991</td><td>20210324</td><td>171.411559</td><td>50.928991</td><td>0.8383349693445922</td><td>16.972920563506136</td><td>37.74445843714781</td><td>59298.231030149705</td><td>1.0346548210201405</td><td>1.0189454212684772</td><td>19.051809945050618</td><td>0.5902722682221583</td><td>0.4240048133253208</td><td>0.19438778422471725</td><td>1.0839774965594144</td><td>1.0760511184316415</td><td>0.9858504322416539</td><td>0.9731871290591765</td><td>0.9730188456914106</td></tr>\n",
       "<tr><td>81841</td><td>668.2695</td><td>science</td><td>81057</td><td>sv2</td><td>bright</td><td>171.526142</td><td>54.26575</td><td>20210324</td><td>171.526142</td><td>54.26575</td><td>0.8391472041617136</td><td>19.372941725560878</td><td>39.972400722462254</td><td>59298.24120857374</td><td>1.137980946923332</td><td>1.0685299098219727</td><td>19.104750271672415</td><td>0.5218730364755861</td><td>0.38149811523500776</td><td>0.17676541742987822</td><td>1.096782718125609</td><td>1.1513886184316415</td><td>0.960126564750019</td><td>0.9565651841473934</td><td>0.9578457657788488</td></tr>\n",
       "<tr><td>81846</td><td>668.8473</td><td>science</td><td>81059</td><td>sv2</td><td>bright</td><td>176.211771</td><td>52.438441</td><td>20210324</td><td>176.211771</td><td>52.438441</td><td>0.8420134268626445</td><td>29.065509299493325</td><td>40.90691533133314</td><td>59298.2772670527</td><td>1.3464095227130972</td><td>0.9855880618414308</td><td>19.18687015747789</td><td>0.4357776164014128</td><td>0.3284433420914211</td><td>0.15509263023731024</td><td>1.069719255008562</td><td>1.3237955895854876</td><td>0.738754262998055</td><td>0.7593640802025132</td><td>0.7780499197093167</td></tr>\n",
       "<tr><td>81847</td><td>668.8599</td><td>science</td><td>81059</td><td>sv2</td><td>bright</td><td>176.210871</td><td>52.438461</td><td>20210324</td><td>176.210871</td><td>52.438461</td><td>0.8428079101894296</td><td>31.924591749720616</td><td>40.86715707165989</td><td>59298.28730080553</td><td>1.0267740019886364</td><td>0.9912940633492227</td><td>19.2009776279938</td><td>0.607291339435732</td><td>0.4347493908021789</td><td>0.19904275936207044</td><td>1.06761326564668</td><td>1.062529003047026</td><td>0.9956021817274336</td><td>0.9764292475826895</td><td>0.9714238536591118</td></tr>\n",
       "<tr><td>81848</td><td>702.8672</td><td>science</td><td>81058</td><td>sv2</td><td>bright</td><td>176.727142</td><td>55.763201</td><td>20210324</td><td>176.727142</td><td>55.763201</td><td>0.8436328388119623</td><td>34.941324702398354</td><td>43.110115530253154</td><td>59298.29773734984</td><td>1.0114104216629607</td><td>1.039295052638415</td><td>19.204882343485306</td><td>0.5881395781409264</td><td>0.42132171136166496</td><td>0.1931202355059821</td><td>1.0932285742109584</td><td>1.0591484742008723</td><td>1.0441453042079498</td><td>1.0238650826717959</td><td>1.0167358666746806</td></tr>\n",
       "<tr><td>81849</td><td>702.8606</td><td>science</td><td>81058</td><td>sv2</td><td>bright</td><td>176.726079</td><td>55.76319</td><td>20210324</td><td>176.726079</td><td>55.76319</td><td>0.844424707125993</td><td>37.872054763286</td><td>43.08176874438004</td><td>59298.30777340765</td><td>1.0834872546557013</td><td>1.0442837633744033</td><td>19.163232601232878</td><td>0.5529438235126478</td><td>0.40092886634836694</td><td>0.18485794372625064</td><td>1.0955244521719516</td><td>1.1108222722777952</td><td>0.9667346695969463</td><td>0.9569624370270033</td><td>0.9557450812189107</td></tr>\n",
       "<tr><td>81850</td><td>822.2458</td><td>science</td><td>81061</td><td>sv2</td><td>bright</td><td>182.3016</td><td>57.038491</td><td>20210324</td><td>182.3016</td><td>57.038491</td><td>0.8452967911033753</td><td>41.13000719724015</td><td>46.36697739704693</td><td>59298.318846068054</td><td>1.2727617533364994</td><td>1.024849062009493</td><td>19.194821589301462</td><td>0.45990100366837927</td><td>0.3431017563624116</td><td>0.1609820984443179</td><td>1.1053361453113861</td><td>1.25425328189318</td><td>0.7694550608358197</td><td>0.7821241412504704</td><td>0.7999892104479976</td></tr>\n",
       "<tr><td>81854</td><td>822.2468</td><td>science</td><td>81061</td><td>sv2</td><td>bright</td><td>182.297558</td><td>57.03838</td><td>20210324</td><td>182.297558</td><td>57.03838</td><td>0.8482693990040607</td><td>52.34269926831075</td><td>46.25016454381284</td><td>59298.35675058816</td><td>1.1168018278217835</td><td>0.996670795405667</td><td>18.945635449882133</td><td>0.5384239405665391</td><td>0.39131202847569657</td><td>0.18081441503717782</td><td>1.13090902901403</td><td>1.11613453189318</td><td>0.8669765334947328</td><td>0.8682447919867684</td><td>0.8735026557400596</td></tr>\n",
       "<tr><td>81855</td><td>613.4308</td><td>science</td><td>81063</td><td>sv2</td><td>bright</td><td>186.870021</td><td>54.82188</td><td>20210324</td><td>186.870021</td><td>54.82188</td><td>0.8491091201866124</td><td>55.508714474373406</td><td>47.32212318747944</td><td>59298.36750485519</td><td>1.1845879723004225</td><td>0.8000461514434473</td><td>18.656087395367663</td><td>0.5112995882987283</td><td>0.37553264212322124</td><td>0.17480265765535985</td><td>1.1105764771637041</td><td>1.1847109742008723</td><td>0.6719299312374385</td><td>0.683377828731547</td><td>0.6942019082684558</td></tr>\n",
       "<tr><td>...</td><td>...</td><td>...</td><td>...</td><td>...</td><td>...</td><td>...</td><td>...</td><td>...</td><td>...</td><td>...</td><td>...</td><td>...</td><td>...</td><td>...</td><td>...</td><td>...</td><td>...</td><td>...</td><td>...</td><td>...</td><td>...</td><td>...</td><td>...</td><td>...</td><td>...</td></tr>\n",
       "<tr><td>98061</td><td>436.1747</td><td>science</td><td>20206</td><td>main</td><td>bright</td><td>233.278658</td><td>14.60279</td><td>20210709</td><td>233.278658</td><td>14.60279</td><td>0.0009344382012125816</td><td>101.83769286742042</td><td>111.48252254464998</td><td>59405.16295143413</td><td>1.5348682215518363</td><td>0.8999746050951143</td><td>21.085538487576585</td><td>0.3712923064230983</td><td>0.2879277561989757</td><td>0.1381353323698581</td><td>1.048329552018794</td><td>1.5106905415085645</td><td>0.5498573014701965</td><td>0.5874799408483273</td><td>0.6135263906051982</td></tr>\n",
       "<tr><td>98062</td><td>1477.1743</td><td>science</td><td>20218</td><td>main</td><td>bright</td><td>235.918609</td><td>16.766201</td><td>20210709</td><td>235.918609</td><td>16.766201</td><td>0.0009689283036799476</td><td>104.68452577637929</td><td>112.25813208688697</td><td>59405.17561945349</td><td>2.1828497863804563</td><td>0.4031700486856702</td><td>20.98519385958091</td><td>0.22216491859202972</td><td>0.18637987576307102</td><td>0.09433380595811419</td><td>1.0383905883983133</td><td>2.127878522277795</td><td>0.15174136390168008</td><td>0.1730165744757982</td><td>0.1902606802873419</td></tr>\n",
       "<tr><td>98063</td><td>1452.6976</td><td>science</td><td>80978</td><td>main</td><td>bright</td><td>207.279108</td><td>52.87992</td><td>20210709</td><td>207.279108</td><td>52.87992</td><td>0.0010309062503500344</td><td>108.86027748112089</td><td>73.55235668457726</td><td>59405.195849320255</td><td>1.8006506942972114</td><td>0.6593625244628543</td><td>21.1337467259341</td><td>0.293470905821148</td><td>0.2354617956792806</td><td>0.11560360294509728</td><td>1.227681448866262</td><td>1.742498233816257</td><td>0.3047878942967975</td><td>0.3364294719748532</td><td>0.35885390319459404</td></tr>\n",
       "<tr><td>98064</td><td>368.6533</td><td>science</td><td>80978</td><td>main</td><td>bright</td><td>207.279108</td><td>52.87992</td><td>20210709</td><td>207.279108</td><td>52.87992</td><td>0.0010693193366362226</td><td>111.1144382514419</td><td>73.55236734537596</td><td>59405.20723944603</td><td>1.8190103793152292</td><td>0.7280815651045056</td><td>21.064701180660066</td><td>0.28946239636383586</td><td>0.23343622282069942</td><td>0.11482897667832394</td><td>1.2658936535974437</td><td>1.8043136184316415</td><td>0.3335415933738518</td><td>0.3682952365301943</td><td>0.39394000796692175</td></tr>\n",
       "<tr><td>98065</td><td>645.6358</td><td>science</td><td>20762</td><td>main</td><td>bright</td><td>250.418921</td><td>35.752801</td><td>20210709</td><td>250.418921</td><td>35.752801</td><td>0.0011092995154811554</td><td>113.00431645990109</td><td>108.42281220517465</td><td>59405.21834849365</td><td>1.5250489248330703</td><td>0.9113439779102812</td><td>21.42711967537739</td><td>0.36812758718321514</td><td>0.28514889555021083</td><td>0.13682403265334298</td><td>1.0047695098331595</td><td>1.4821975126624107</td><td>0.5577076948063677</td><td>0.5941102921140221</td><td>0.6193902059214809</td></tr>\n",
       "<tr><td>98066</td><td>472.7551</td><td>science</td><td>20761</td><td>main</td><td>bright</td><td>250.37643</td><td>39.091321</td><td>20210709</td><td>250.37643</td><td>39.091321</td><td>0.0011403639815181846</td><td>114.36722646162444</td><td>105.75202255869199</td><td>59405.22648419404</td><td>1.3956305505009627</td><td>0.9402062232345167</td><td>21.41111260750814</td><td>0.41805845253277</td><td>0.31782840808089563</td><td>0.15066017162271467</td><td>1.0142118648402425</td><td>1.387542704970103</td><td>0.6387801993601208</td><td>0.6678438885120485</td><td>0.6879237531177177</td></tr>\n",
       "<tr><td>98067</td><td>399.0263</td><td>science</td><td>20924</td><td>main</td><td>bright</td><td>254.115721</td><td>37.274041</td><td>20210709</td><td>254.115721</td><td>37.274041</td><td>0.0011669220700363206</td><td>115.43286851367468</td><td>108.99084797547637</td><td>59405.23320049042</td><td>1.288053448632624</td><td>0.9518044086275428</td><td>21.442237395794507</td><td>0.47100179952001875</td><td>0.35178018327392035</td><td>0.16502823333405103</td><td>1.0088543821551326</td><td>1.3001318876624106</td><td>0.7342989164563944</td><td>0.7575131521276097</td><td>0.7746201821175023</td></tr>\n",
       "<tr><td>98271</td><td>803.0082</td><td>science</td><td>20855</td><td>main</td><td>bright</td><td>332.470179</td><td>0.91056</td><td>20210710</td><td>332.470179</td><td>0.91056</td><td>0.02056217368714312</td><td>119.98064009980719</td><td>147.7749676594288</td><td>59406.43125773072</td><td>2.0632534317547573</td><td>0.16104261858662902</td><td>20.84107631860794</td><td>0.24207013280214407</td><td>0.20038218267549307</td><td>0.10050672743521881</td><td>1.1673828364131644</td><td>2.0143893395854877</td><td>0.06611618604566585</td><td>0.07465428440617729</td><td>0.08090987769558328</td></tr>\n",
       "<tr><td>98272</td><td>1290.1845</td><td>science</td><td>21283</td><td>main</td><td>bright</td><td>356.355372</td><td>30.535471</td><td>20210710</td><td>356.355372</td><td>30.535471</td><td>0.02101165744225502</td><td>117.74155248466494</td><td>110.7579037788254</td><td>59406.446976089865</td><td>2.1885829177772145</td><td>0.6600122662708228</td><td>21.22462339527624</td><td>0.22048588297888733</td><td>0.1848241842575502</td><td>0.09353665502684902</td><td>1.0352379813135184</td><td>2.1254638588162567</td><td>0.2436036761807822</td><td>0.27989927157772365</td><td>0.3073797478868935</td></tr>\n",
       "<tr><td>98273</td><td>301.0203</td><td>science</td><td>21283</td><td>main</td><td>bright</td><td>356.355371</td><td>30.53547</td><td>20210710</td><td>356.355372</td><td>30.535471</td><td>0.021301272391881638</td><td>116.05513296039372</td><td>110.75790454858738</td><td>59406.45700626222</td><td>2.4459085328926076</td><td>0.3258748307856806</td><td>21.058158470997768</td><td>0.1862716266324685</td><td>0.15999150772237491</td><td>0.08251334588370336</td><td>1.0220473539360984</td><td>2.388662176123949</td><td>0.10384322897447403</td><td>0.12246019368402342</td><td>0.13722376729060085</td></tr>\n",
       "</table>"
      ],
      "text/plain": [
       "<Table length=738>\n",
       "EXPID  EXPTIME  OBSTYPE ...     FIBERFAC_ELG        FIBERFAC_BGS   \n",
       "int64  float64    str7  ...       float64             float64      \n",
       "----- --------- ------- ... ------------------- -------------------\n",
       "81839  656.9011 science ...  1.0146258767949523   1.004522271199225\n",
       "81840  656.9165 science ...  0.9731871290591765  0.9730188456914106\n",
       "81841  668.2695 science ...  0.9565651841473934  0.9578457657788488\n",
       "81846  668.8473 science ...  0.7593640802025132  0.7780499197093167\n",
       "81847  668.8599 science ...  0.9764292475826895  0.9714238536591118\n",
       "81848  702.8672 science ...  1.0238650826717959  1.0167358666746806\n",
       "81849  702.8606 science ...  0.9569624370270033  0.9557450812189107\n",
       "81850  822.2458 science ...  0.7821241412504704  0.7999892104479976\n",
       "81854  822.2468 science ...  0.8682447919867684  0.8735026557400596\n",
       "81855  613.4308 science ...   0.683377828731547  0.6942019082684558\n",
       "  ...       ...     ... ...                 ...                 ...\n",
       "98061  436.1747 science ...  0.5874799408483273  0.6135263906051982\n",
       "98062 1477.1743 science ...  0.1730165744757982  0.1902606802873419\n",
       "98063 1452.6976 science ...  0.3364294719748532 0.35885390319459404\n",
       "98064  368.6533 science ...  0.3682952365301943 0.39394000796692175\n",
       "98065  645.6358 science ...  0.5941102921140221  0.6193902059214809\n",
       "98066  472.7551 science ...  0.6678438885120485  0.6879237531177177\n",
       "98067  399.0263 science ...  0.7575131521276097  0.7746201821175023\n",
       "98271  803.0082 science ... 0.07465428440617729 0.08090987769558328\n",
       "98272 1290.1845 science ... 0.27989927157772365  0.3073797478868935\n",
       "98273  301.0203 science ... 0.12246019368402342 0.13722376729060085"
      ]
     },
     "execution_count": 22,
     "metadata": {},
     "output_type": "execute_result"
    }
   ],
   "source": [
    "obscolumns = ['EXPID', 'SKYRA', 'SKYDEC', 'MOON_ILLUMINATION', 'MOON_ZD_DEG', 'MOON_SEP_DEG',\n",
    "              'MJD', 'FWHM_ASEC', 'TRANSPARENCY', 'SKY_MAG_AB',\n",
    "              'FIBER_FRACFLUX', 'FIBER_FRACFLUX_ELG', 'FIBER_FRACFLUX_BGS',\n",
    "              'AIRMASS', 'RADPROF_FWHM_ASEC',\n",
    "              'FIBERFAC', 'FIBERFAC_ELG', 'FIBERFAC_BGS']\n",
    "\n",
    "expobstab = join(exptab_redux, obsconditions[obscolumns], keys=['EXPID'])\n",
    "expobstab"
   ]
  },
  {
   "cell_type": "code",
   "execution_count": 23,
   "id": "8a09c284-9fb5-425b-a42d-ce62c9bcc829",
   "metadata": {},
   "outputs": [
    {
     "data": {
      "text/plain": [
       "(<MaskedColumn name='FA_SURV' dtype='str7' length=4>\n",
       " main\n",
       "  sv1\n",
       "  sv2\n",
       "  sv3,\n",
       " array([433,   1,  44, 260]))"
      ]
     },
     "execution_count": 23,
     "metadata": {},
     "output_type": "execute_result"
    }
   ],
   "source": [
    "# List the exposures by survey.\n",
    "np.unique(expobstab['FA_SURV'], return_counts=True)"
   ]
  },
  {
   "cell_type": "code",
   "execution_count": 24,
   "id": "3a1f95d3-2e5e-4d4d-8607-4a8a1a323184",
   "metadata": {},
   "outputs": [
    {
     "data": {
      "text/html": [
       "<i>Table length=44</i>\n",
       "<table id=\"table46913404974272\" class=\"table-striped table-bordered table-condensed\">\n",
       "<thead><tr><th>EXPID</th><th>EXPTIME</th><th>OBSTYPE</th><th>TILEID</th><th>FA_SURV</th><th>PROGRAM</th><th>TARGTRA</th><th>TARGTDEC</th><th>NIGHT</th><th>SKYRA</th><th>SKYDEC</th><th>MOON_ILLUMINATION</th><th>MOON_ZD_DEG</th><th>MOON_SEP_DEG</th><th>MJD</th><th>FWHM_ASEC</th><th>TRANSPARENCY</th><th>SKY_MAG_AB</th><th>FIBER_FRACFLUX</th><th>FIBER_FRACFLUX_ELG</th><th>FIBER_FRACFLUX_BGS</th><th>AIRMASS</th><th>RADPROF_FWHM_ASEC</th><th>FIBERFAC</th><th>FIBERFAC_ELG</th><th>FIBERFAC_BGS</th></tr></thead>\n",
       "<thead><tr><th>int64</th><th>float64</th><th>str7</th><th>int64</th><th>str7</th><th>str85</th><th>float64</th><th>float64</th><th>int64</th><th>float64</th><th>float64</th><th>float64</th><th>float64</th><th>float64</th><th>float64</th><th>float64</th><th>float64</th><th>float64</th><th>float64</th><th>float64</th><th>float64</th><th>float64</th><th>float64</th><th>float64</th><th>float64</th><th>float64</th></tr></thead>\n",
       "<tr><td>81839</td><td>656.9011</td><td>science</td><td>81056</td><td>sv2</td><td>bright</td><td>171.412642</td><td>50.92891</td><td>20210324</td><td>171.412642</td><td>50.92891</td><td>0.8375508202612056</td><td>14.927902410006718</td><td>37.780937931511055</td><td>59298.22121791687</td><td>0.978621148692607</td><td>1.0049289745540513</td><td>19.085540380575374</td><td>0.6336533767028059</td><td>0.4514740647587236</td><td>0.20586830587955238</td><td>1.0965814645396126</td><td>1.0084405415085644</td><td>1.0384483396917168</td><td>1.0146258767949523</td><td>1.004522271199225</td></tr>\n",
       "<tr><td>81840</td><td>656.9165</td><td>science</td><td>81056</td><td>sv2</td><td>bright</td><td>171.411559</td><td>50.928991</td><td>20210324</td><td>171.411559</td><td>50.928991</td><td>0.8383349693445922</td><td>16.972920563506136</td><td>37.74445843714781</td><td>59298.231030149705</td><td>1.0346548210201405</td><td>1.0189454212684772</td><td>19.051809945050618</td><td>0.5902722682221583</td><td>0.4240048133253208</td><td>0.19438778422471725</td><td>1.0839774965594144</td><td>1.0760511184316415</td><td>0.9858504322416539</td><td>0.9731871290591765</td><td>0.9730188456914106</td></tr>\n",
       "<tr><td>81841</td><td>668.2695</td><td>science</td><td>81057</td><td>sv2</td><td>bright</td><td>171.526142</td><td>54.26575</td><td>20210324</td><td>171.526142</td><td>54.26575</td><td>0.8391472041617136</td><td>19.372941725560878</td><td>39.972400722462254</td><td>59298.24120857374</td><td>1.137980946923332</td><td>1.0685299098219727</td><td>19.104750271672415</td><td>0.5218730364755861</td><td>0.38149811523500776</td><td>0.17676541742987822</td><td>1.096782718125609</td><td>1.1513886184316415</td><td>0.960126564750019</td><td>0.9565651841473934</td><td>0.9578457657788488</td></tr>\n",
       "<tr><td>81846</td><td>668.8473</td><td>science</td><td>81059</td><td>sv2</td><td>bright</td><td>176.211771</td><td>52.438441</td><td>20210324</td><td>176.211771</td><td>52.438441</td><td>0.8420134268626445</td><td>29.065509299493325</td><td>40.90691533133314</td><td>59298.2772670527</td><td>1.3464095227130972</td><td>0.9855880618414308</td><td>19.18687015747789</td><td>0.4357776164014128</td><td>0.3284433420914211</td><td>0.15509263023731024</td><td>1.069719255008562</td><td>1.3237955895854876</td><td>0.738754262998055</td><td>0.7593640802025132</td><td>0.7780499197093167</td></tr>\n",
       "<tr><td>81847</td><td>668.8599</td><td>science</td><td>81059</td><td>sv2</td><td>bright</td><td>176.210871</td><td>52.438461</td><td>20210324</td><td>176.210871</td><td>52.438461</td><td>0.8428079101894296</td><td>31.924591749720616</td><td>40.86715707165989</td><td>59298.28730080553</td><td>1.0267740019886364</td><td>0.9912940633492227</td><td>19.2009776279938</td><td>0.607291339435732</td><td>0.4347493908021789</td><td>0.19904275936207044</td><td>1.06761326564668</td><td>1.062529003047026</td><td>0.9956021817274336</td><td>0.9764292475826895</td><td>0.9714238536591118</td></tr>\n",
       "<tr><td>81848</td><td>702.8672</td><td>science</td><td>81058</td><td>sv2</td><td>bright</td><td>176.727142</td><td>55.763201</td><td>20210324</td><td>176.727142</td><td>55.763201</td><td>0.8436328388119623</td><td>34.941324702398354</td><td>43.110115530253154</td><td>59298.29773734984</td><td>1.0114104216629607</td><td>1.039295052638415</td><td>19.204882343485306</td><td>0.5881395781409264</td><td>0.42132171136166496</td><td>0.1931202355059821</td><td>1.0932285742109584</td><td>1.0591484742008723</td><td>1.0441453042079498</td><td>1.0238650826717959</td><td>1.0167358666746806</td></tr>\n",
       "<tr><td>81849</td><td>702.8606</td><td>science</td><td>81058</td><td>sv2</td><td>bright</td><td>176.726079</td><td>55.76319</td><td>20210324</td><td>176.726079</td><td>55.76319</td><td>0.844424707125993</td><td>37.872054763286</td><td>43.08176874438004</td><td>59298.30777340765</td><td>1.0834872546557013</td><td>1.0442837633744033</td><td>19.163232601232878</td><td>0.5529438235126478</td><td>0.40092886634836694</td><td>0.18485794372625064</td><td>1.0955244521719516</td><td>1.1108222722777952</td><td>0.9667346695969463</td><td>0.9569624370270033</td><td>0.9557450812189107</td></tr>\n",
       "<tr><td>81850</td><td>822.2458</td><td>science</td><td>81061</td><td>sv2</td><td>bright</td><td>182.3016</td><td>57.038491</td><td>20210324</td><td>182.3016</td><td>57.038491</td><td>0.8452967911033753</td><td>41.13000719724015</td><td>46.36697739704693</td><td>59298.318846068054</td><td>1.2727617533364994</td><td>1.024849062009493</td><td>19.194821589301462</td><td>0.45990100366837927</td><td>0.3431017563624116</td><td>0.1609820984443179</td><td>1.1053361453113861</td><td>1.25425328189318</td><td>0.7694550608358197</td><td>0.7821241412504704</td><td>0.7999892104479976</td></tr>\n",
       "<tr><td>81854</td><td>822.2468</td><td>science</td><td>81061</td><td>sv2</td><td>bright</td><td>182.297558</td><td>57.03838</td><td>20210324</td><td>182.297558</td><td>57.03838</td><td>0.8482693990040607</td><td>52.34269926831075</td><td>46.25016454381284</td><td>59298.35675058816</td><td>1.1168018278217835</td><td>0.996670795405667</td><td>18.945635449882133</td><td>0.5384239405665391</td><td>0.39131202847569657</td><td>0.18081441503717782</td><td>1.13090902901403</td><td>1.11613453189318</td><td>0.8669765334947328</td><td>0.8682447919867684</td><td>0.8735026557400596</td></tr>\n",
       "<tr><td>81855</td><td>613.4308</td><td>science</td><td>81063</td><td>sv2</td><td>bright</td><td>186.870021</td><td>54.82188</td><td>20210324</td><td>186.870021</td><td>54.82188</td><td>0.8491091201866124</td><td>55.508714474373406</td><td>47.32212318747944</td><td>59298.36750485519</td><td>1.1845879723004225</td><td>0.8000461514434473</td><td>18.656087395367663</td><td>0.5112995882987283</td><td>0.37553264212322124</td><td>0.17480265765535985</td><td>1.1105764771637041</td><td>1.1847109742008723</td><td>0.6719299312374385</td><td>0.683377828731547</td><td>0.6942019082684558</td></tr>\n",
       "<tr><td>...</td><td>...</td><td>...</td><td>...</td><td>...</td><td>...</td><td>...</td><td>...</td><td>...</td><td>...</td><td>...</td><td>...</td><td>...</td><td>...</td><td>...</td><td>...</td><td>...</td><td>...</td><td>...</td><td>...</td><td>...</td><td>...</td><td>...</td><td>...</td><td>...</td><td>...</td></tr>\n",
       "<tr><td>82507</td><td>801.4509</td><td>science</td><td>81063</td><td>sv2</td><td>bright</td><td>186.85905</td><td>54.8204</td><td>20210327</td><td>186.85905</td><td>54.8204</td><td>0.9966500592443855</td><td>55.805646351154806</td><td>50.12631081912893</td><td>59301.447618959166</td><td>1.0340479426726956</td><td>1.0053992833389878</td><td>18.323753248097745</td><td>0.596820101654693</td><td>0.4285624215710652</td><td>0.19640205228052268</td><td>1.3246568106737542</td><td>1.0688071280470262</td><td>0.9868152386702642</td><td>0.973184986704426</td><td>0.9737045783721843</td></tr>\n",
       "<tr><td>82508</td><td>801.4326</td><td>science</td><td>81063</td><td>sv2</td><td>bright</td><td>186.857321</td><td>54.82</td><td>20210327</td><td>186.857321</td><td>54.82</td><td>0.9967590239121986</td><td>58.91291783961727</td><td>50.18895080815896</td><td>59301.45859230105</td><td>1.1422824217971854</td><td>1.0089545370271231</td><td>18.274465124122017</td><td>0.5465498150802403</td><td>0.3983657419229036</td><td>0.18427028163539053</td><td>1.3722287886552345</td><td>1.1818133780470261</td><td>0.8977134521939748</td><td>0.9024622651579147</td><td>0.9114569746632624</td></tr>\n",
       "<tr><td>82997</td><td>1170.6334</td><td>science</td><td>81069</td><td>sv2</td><td>bright</td><td>184.74445</td><td>56.88339</td><td>20210401</td><td>184.74445</td><td>56.88339</td><td>0.7284135230322205</td><td>75.18586327929603</td><td>98.11809925310052</td><td>59306.336002571916</td><td>1.4266745729262853</td><td>0.5141916193801386</td><td>19.75595756538101</td><td>0.4151373672662809</td><td>0.31714410539391913</td><td>0.1506855105321188</td><td>1.1235689099555586</td><td>1.4324554453547182</td><td>0.19887282849528942</td><td>0.23311146429657809</td><td>0.2613039862755522</td></tr>\n",
       "<tr><td>82998</td><td>1170.6301</td><td>science</td><td>81069</td><td>sv2</td><td>bright</td><td>184.74256</td><td>56.883281</td><td>20210401</td><td>184.74256</td><td>56.883281</td><td>0.7266806819905582</td><td>71.56645132867273</td><td>98.29147584185256</td><td>59306.35274273205</td><td>1.0784331798335773</td><td>0.5330399497608935</td><td>19.488250940819455</td><td>0.5663322866417781</td><td>0.40953006833698113</td><td>0.18851400083126313</td><td>1.1435291810950583</td><td>1.0741193876624107</td><td>0.4280615437563794</td><td>0.44220165699349934</td><td>0.45153236570624145</td></tr>\n",
       "<tr><td>82999</td><td>472.4451</td><td>science</td><td>81068</td><td>sv2</td><td>bright</td><td>183.579093</td><td>53.590382</td><td>20210401</td><td>183.579093</td><td>53.590382</td><td>0.7253351869885412</td><td>68.96701948977802</td><td>97.46636838912876</td><td>59306.36572247979</td><td>1.1215133210407604</td><td>1.0256823809907187</td><td>20.247054302521597</td><td>0.5333320065725442</td><td>0.38979843748127757</td><td>0.18046710921548736</td><td>1.1453470864371473</td><td>1.1277249165085645</td><td>0.836087195934106</td><td>0.8479634220917053</td><td>0.857856719091839</td></tr>\n",
       "<tr><td>83001</td><td>420.9098</td><td>science</td><td>81074</td><td>sv2</td><td>bright</td><td>178.33225</td><td>56.7724</td><td>20210401</td><td>178.33225</td><td>56.7724</td><td>0.722971457856019</td><td>64.75894246762525</td><td>101.91328705819375</td><td>59306.38848598174</td><td>1.0876316688993848</td><td>1.0803404358777802</td><td>20.096365085477615</td><td>0.524277424727503</td><td>0.38076557449897874</td><td>0.17574883239203154</td><td>1.2588374918591303</td><td>1.0929537626624106</td><td>0.9450470321585924</td><td>0.9383783303909232</td><td>0.9390696504990328</td></tr>\n",
       "<tr><td>83002</td><td>448.9442</td><td>science</td><td>81073</td><td>sv2</td><td>bright</td><td>173.065471</td><td>55.27541</td><td>20210401</td><td>173.065471</td><td>55.27541</td><td>0.7220771182199018</td><td>63.32475476293128</td><td>104.27886788100123</td><td>59306.39708706926</td><td>1.0978623434208985</td><td>1.1028581656684828</td><td>20.05185197561761</td><td>0.5206640455192171</td><td>0.37733987478556585</td><td>0.17419403299292216</td><td>1.3322287937191941</td><td>1.1084076088162569</td><td>0.7866863831449378</td><td>0.8148407869216455</td><td>0.830612405659053</td></tr>\n",
       "<tr><td>83003</td><td>718.2385</td><td>science</td><td>81072</td><td>sv2</td><td>bright</td><td>172.836458</td><td>51.9374</td><td>20210401</td><td>172.836458</td><td>51.9374</td><td>0.7210072827063935</td><td>61.73035552512956</td><td>103.34149369167002</td><td>59306.40736642719</td><td>1.1353526284891804</td><td>1.0303751404938946</td><td>20.078186041446</td><td>0.5539177475886371</td><td>0.40231449854748</td><td>0.18591062386932594</td><td>1.3693563825460893</td><td>1.1750523203547183</td><td>0.670040599444631</td><td>0.7257296250443861</td><td>0.7597862948994238</td></tr>\n",
       "<tr><td>83417</td><td>255.6813</td><td>science</td><td>81073</td><td>sv2</td><td>bright</td><td>173.090008</td><td>55.27655</td><td>20210404</td><td>173.090008</td><td>55.27655</td><td>0.4195240014853185</td><td>155.5596091770983</td><td>130.0269315612873</td><td>59309.17152580607</td><td>0.9337604751579516</td><td>0.9890122854726442</td><td>21.266348394140568</td><td>0.599566956054866</td><td>0.42699921341191116</td><td>0.19447245662091228</td><td>1.1672220202759878</td><td>0.9374494357393338</td><td>0.9873091583127598</td><td>0.9536193888500639</td><td>0.9369517065030284</td></tr>\n",
       "<tr><td>83422</td><td>300.7664</td><td>science</td><td>81075</td><td>sv2</td><td>bright</td><td>177.707858</td><td>53.44858</td><td>20210404</td><td>177.707858</td><td>53.44858</td><td>0.41353597421029886</td><td>139.06286900058765</td><td>128.01981014184642</td><td>59309.22777182015</td><td>0.9149504188024016</td><td>0.7519477302913967</td><td>21.25172766568079</td><td>0.6571553057259316</td><td>0.46508785221900867</td><td>0.21086548755480056</td><td>1.0912025148152422</td><td>0.9403470318931798</td><td>0.8483151182065443</td><td>0.8225838174094449</td><td>0.8108256514201453</td></tr>\n",
       "</table>"
      ],
      "text/plain": [
       "<Table length=44>\n",
       "EXPID  EXPTIME  OBSTYPE ...     FIBERFAC_ELG        FIBERFAC_BGS   \n",
       "int64  float64    str7  ...       float64             float64      \n",
       "----- --------- ------- ... ------------------- -------------------\n",
       "81839  656.9011 science ...  1.0146258767949523   1.004522271199225\n",
       "81840  656.9165 science ...  0.9731871290591765  0.9730188456914106\n",
       "81841  668.2695 science ...  0.9565651841473934  0.9578457657788488\n",
       "81846  668.8473 science ...  0.7593640802025132  0.7780499197093167\n",
       "81847  668.8599 science ...  0.9764292475826895  0.9714238536591118\n",
       "81848  702.8672 science ...  1.0238650826717959  1.0167358666746806\n",
       "81849  702.8606 science ...  0.9569624370270033  0.9557450812189107\n",
       "81850  822.2458 science ...  0.7821241412504704  0.7999892104479976\n",
       "81854  822.2468 science ...  0.8682447919867684  0.8735026557400596\n",
       "81855  613.4308 science ...   0.683377828731547  0.6942019082684558\n",
       "  ...       ...     ... ...                 ...                 ...\n",
       "82507  801.4509 science ...   0.973184986704426  0.9737045783721843\n",
       "82508  801.4326 science ...  0.9024622651579147  0.9114569746632624\n",
       "82997 1170.6334 science ... 0.23311146429657809  0.2613039862755522\n",
       "82998 1170.6301 science ... 0.44220165699349934 0.45153236570624145\n",
       "82999  472.4451 science ...  0.8479634220917053   0.857856719091839\n",
       "83001  420.9098 science ...  0.9383783303909232  0.9390696504990328\n",
       "83002  448.9442 science ...  0.8148407869216455   0.830612405659053\n",
       "83003  718.2385 science ...  0.7257296250443861  0.7597862948994238\n",
       "83417  255.6813 science ...  0.9536193888500639  0.9369517065030284\n",
       "83422  300.7664 science ...  0.8225838174094449  0.8108256514201453"
      ]
     },
     "execution_count": 24,
     "metadata": {},
     "output_type": "execute_result"
    }
   ],
   "source": [
    "# List all SV2 tiles + exposures.\n",
    "sv2 = expobstab['FA_SURV'] == 'sv2'\n",
    "expobstab[sv2]"
   ]
  },
  {
   "cell_type": "markdown",
   "id": "c9947c5d-06c3-4c15-b1eb-c314c89b3807",
   "metadata": {},
   "source": [
    "## Set up Redrock Templates\n",
    "\n",
    "Set up templates for generating model fluxes."
   ]
  },
  {
   "cell_type": "code",
   "execution_count": 25,
   "id": "6a66b48d-8ade-4cec-b040-783ba31bcae9",
   "metadata": {},
   "outputs": [
    {
     "name": "stdout",
     "output_type": "stream",
     "text": [
      "DEBUG: Read templates from /global/common/software/desi/cori/desiconda/20190804-1.3.0-spec/code/redrock-templates/master\n",
      "DEBUG: Using default redshift range -0.0050-1.6997 for rrtemplate-galaxy.fits\n",
      "DEBUG: Using default redshift range 0.0500-5.9934 for rrtemplate-qso.fits\n",
      "DEBUG: Using default redshift range -0.0020-0.0020 for rrtemplate-star-A.fits\n",
      "DEBUG: Using default redshift range -0.0020-0.0020 for rrtemplate-star-B.fits\n",
      "DEBUG: Using default redshift range -0.0020-0.0020 for rrtemplate-star-CV.fits\n",
      "DEBUG: Using default redshift range -0.0020-0.0020 for rrtemplate-star-F.fits\n",
      "DEBUG: Using default redshift range -0.0020-0.0020 for rrtemplate-star-G.fits\n",
      "DEBUG: Using default redshift range -0.0020-0.0020 for rrtemplate-star-K.fits\n",
      "DEBUG: Using default redshift range -0.0020-0.0020 for rrtemplate-star-M.fits\n",
      "DEBUG: Using default redshift range -0.0020-0.0020 for rrtemplate-star-WD.fits\n"
     ]
    }
   ],
   "source": [
    "templates = dict()\n",
    "for f in redrock.templates.find_templates():\n",
    "    t = redrock.templates.Template(f)\n",
    "    templates[(t.template_type, t.sub_type)] = t"
   ]
  },
  {
   "cell_type": "markdown",
   "id": "12f9cbd9-d401-41a2-9fe4-4aa9fd45a474",
   "metadata": {},
   "source": [
    "## Grab SV2 Tiles and view Redshift/Fibermap tables"
   ]
  },
  {
   "cell_type": "code",
   "execution_count": 26,
   "id": "2b80d80b-5b6f-4cf6-b942-44a9f31a1e45",
   "metadata": {},
   "outputs": [
    {
     "data": {
      "text/html": [
       "&lt;Column name=&apos;FIBER_FRACFLUX&apos; dtype=&apos;float64&apos; length=2&gt;\n",
       "<table>\n",
       "<tr><td>0.6336533767028059</td></tr>\n",
       "<tr><td>0.5902722682221583</td></tr>\n",
       "</table>"
      ],
      "text/plain": [
       "<Column name='FIBER_FRACFLUX' dtype='float64' length=2>\n",
       "0.6336533767028059\n",
       "0.5902722682221583"
      ]
     },
     "execution_count": 26,
     "metadata": {},
     "output_type": "execute_result"
    }
   ],
   "source": [
    "sv2_tiles = np.unique(expobstab[sv2]['TILEID'])\n",
    "tileid = sv2_tiles[0]\n",
    "\n",
    "expobstab[expobstab['TILEID'] == tileid]['FIBER_FRACFLUX']"
   ]
  },
  {
   "cell_type": "code",
   "execution_count": 27,
   "id": "9b95d85b-3b8e-4ffa-a9a0-5ec27423a364",
   "metadata": {},
   "outputs": [
    {
     "data": {
      "text/plain": [
       "18"
      ]
     },
     "execution_count": 27,
     "metadata": {},
     "output_type": "execute_result"
    }
   ],
   "source": [
    "len(sv2_tiles)"
   ]
  },
  {
   "cell_type": "code",
   "execution_count": 28,
   "id": "319c99a6-0304-4444-8908-907bda683c2d",
   "metadata": {
    "tags": []
   },
   "outputs": [
    {
     "data": {
      "text/html": [
       "<i>Table length=2572</i>\n",
       "<table id=\"table46913396584800\" class=\"table-striped table-bordered table-condensed\">\n",
       "<thead><tr><th>TARGETID</th><th>CHI2</th><th>COEFF [10]</th><th>Z</th><th>ZERR</th><th>ZWARN</th><th>NPIXELS</th><th>SPECTYPE</th><th>SUBTYPE</th><th>NCOEFF</th><th>DELTACHI2</th></tr></thead>\n",
       "<thead><tr><th>int64</th><th>float64</th><th>float64</th><th>float64</th><th>float64</th><th>int64</th><th>int64</th><th>bytes6</th><th>bytes20</th><th>int64</th><th>float64</th></tr></thead>\n",
       "<tr><td>39633244055930066</td><td>9420.912271149457</td><td>-325.3402127034103 .. -14.090545499869723</td><td>0.29927018531930694</td><td>4.037465254096842e-05</td><td>0</td><td>7919</td><td>GALAXY</td><td></td><td>10</td><td>37.68648897856474</td></tr>\n",
       "<tr><td>39633244055931465</td><td>8759.610308978707</td><td>-133.84292724119211 .. 14.332934474773003</td><td>0.29105402417923687</td><td>5.761142657534843e-05</td><td>0</td><td>7918</td><td>GALAXY</td><td></td><td>10</td><td>185.02364775165915</td></tr>\n",
       "<tr><td>39633247969217075</td><td>9165.178549259901</td><td>-275.3576519881777 .. -38.839354087666656</td><td>0.29006983454452023</td><td>1.77276507424914e-05</td><td>0</td><td>7922</td><td>GALAXY</td><td></td><td>10</td><td>358.1266112625599</td></tr>\n",
       "<tr><td>39633247973409609</td><td>8851.310881853104</td><td>238.30427153696698 .. 2.8536951886409696</td><td>0.3361080839611094</td><td>9.084562705033209e-06</td><td>0</td><td>7924</td><td>GALAXY</td><td></td><td>10</td><td>2492.513094186783</td></tr>\n",
       "<tr><td>39633247969214833</td><td>8776.083568513393</td><td>-6.232930774957366 .. -9.382669854847979</td><td>0.2949754072238761</td><td>1.7760809900591825e-05</td><td>0</td><td>7924</td><td>GALAXY</td><td></td><td>10</td><td>285.18860203027725</td></tr>\n",
       "<tr><td>39633244060124915</td><td>8752.992849051952</td><td>884.374431090617 .. 0.9553714973717417</td><td>0.19125497026549856</td><td>2.0346023814548418e-05</td><td>0</td><td>7923</td><td>GALAXY</td><td></td><td>10</td><td>207.52731642872095</td></tr>\n",
       "<tr><td>39633247969216454</td><td>9549.015422426164</td><td>343.76816983401324 .. 67.79858108759768</td><td>0.19886572404207126</td><td>5.1762777067039814e-05</td><td>0</td><td>7924</td><td>GALAXY</td><td></td><td>10</td><td>2376.092539526522</td></tr>\n",
       "<tr><td>39633244055930846</td><td>9454.587720155716</td><td>1297.6081104979246 .. 30.611917478926994</td><td>0.19936889270670174</td><td>7.816844182544409e-06</td><td>0</td><td>7926</td><td>GALAXY</td><td></td><td>10</td><td>923.2150750160217</td></tr>\n",
       "<tr><td>39633244060125069</td><td>9109.65688174963</td><td>1089.7142612889322 .. 55.90521264706627</td><td>0.19867109964120214</td><td>1.0917115342170794e-05</td><td>0</td><td>7923</td><td>GALAXY</td><td></td><td>10</td><td>755.3465057015419</td></tr>\n",
       "<tr><td>39633247969217664</td><td>9067.46929191053</td><td>-224.35618834670242 .. -11.076681614249223</td><td>0.2914829886667908</td><td>7.154915414537323e-05</td><td>0</td><td>7923</td><td>GALAXY</td><td></td><td>10</td><td>58.42281249165535</td></tr>\n",
       "<tr><td>...</td><td>...</td><td>...</td><td>...</td><td>...</td><td>...</td><td>...</td><td>...</td><td>...</td><td>...</td><td>...</td></tr>\n",
       "<tr><td>39633251869918332</td><td>10469.153350114822</td><td>2808.2527426565825 .. 106.6394812413746</td><td>0.11200457871330793</td><td>3.976587368305113e-06</td><td>0</td><td>7927</td><td>GALAXY</td><td></td><td>10</td><td>8882.317563772202</td></tr>\n",
       "<tr><td>39633247981798076</td><td>8753.556326627731</td><td>809.066134031151 .. 43.46009825226122</td><td>0.11289510842958615</td><td>3.945066279998411e-06</td><td>0</td><td>7928</td><td>GALAXY</td><td></td><td>10</td><td>3165.3135788440704</td></tr>\n",
       "<tr><td>39633244068512420</td><td>9588.848773807287</td><td>374.34287944628375 .. 55.785883940594694</td><td>0.1983529156419997</td><td>4.708433578133659e-05</td><td>0</td><td>7925</td><td>GALAXY</td><td></td><td>10</td><td>710.6166116148233</td></tr>\n",
       "<tr><td>39633244068512891</td><td>10617.590784931555</td><td>2304.998749862762 .. 172.88258947159795</td><td>0.17152815591170797</td><td>4.242426683502964e-05</td><td>0</td><td>7921</td><td>GALAXY</td><td></td><td>10</td><td>3185.5968277193606</td></tr>\n",
       "<tr><td>39633251869918063</td><td>8927.442602157593</td><td>926.6572466789088 .. 27.966958666139874</td><td>0.18049149710346288</td><td>6.382875382875487e-06</td><td>0</td><td>7922</td><td>GALAXY</td><td></td><td>10</td><td>1533.5790348052979</td></tr>\n",
       "<tr><td>39633247977604889</td><td>8486.693697422743</td><td>181.2388235281289 .. -15.716501314620249</td><td>0.31148384504155036</td><td>2.335816104420376e-05</td><td>0</td><td>7924</td><td>GALAXY</td><td></td><td>10</td><td>146.96154913306236</td></tr>\n",
       "<tr><td>39633247977604193</td><td>9020.2103266716</td><td>230.21482485246858 .. 22.127091800263347</td><td>0.23312048333350457</td><td>4.874162854680878e-06</td><td>0</td><td>7926</td><td>GALAXY</td><td></td><td>10</td><td>1608.1532292366028</td></tr>\n",
       "<tr><td>39633247977606235</td><td>8672.849189251661</td><td>223.6669582276742 .. 3.650557744324812</td><td>0.26434143637882074</td><td>1.9999273329924056e-05</td><td>0</td><td>7925</td><td>GALAXY</td><td></td><td>10</td><td>252.06700292229652</td></tr>\n",
       "<tr><td>39633247977604001</td><td>8805.486389935017</td><td>441.75419689076256 .. 23.462335906967876</td><td>0.24476334534772806</td><td>1.741190633437897e-05</td><td>0</td><td>7911</td><td>GALAXY</td><td></td><td>10</td><td>1134.3017597198486</td></tr>\n",
       "<tr><td>39633247977606231</td><td>9345.073833685368</td><td>1272.2859876608172 .. 41.76742685271247</td><td>0.18134026116790755</td><td>6.477622379700083e-05</td><td>0</td><td>7926</td><td>GALAXY</td><td></td><td>10</td><td>213.58127187844366</td></tr>\n",
       "</table>"
      ],
      "text/plain": [
       "<Table length=2572>\n",
       "     TARGETID            CHI2        ... NCOEFF     DELTACHI2     \n",
       "      int64            float64       ... int64       float64      \n",
       "----------------- ------------------ ... ------ ------------------\n",
       "39633244055930066  9420.912271149457 ...     10  37.68648897856474\n",
       "39633244055931465  8759.610308978707 ...     10 185.02364775165915\n",
       "39633247969217075  9165.178549259901 ...     10  358.1266112625599\n",
       "39633247973409609  8851.310881853104 ...     10  2492.513094186783\n",
       "39633247969214833  8776.083568513393 ...     10 285.18860203027725\n",
       "39633244060124915  8752.992849051952 ...     10 207.52731642872095\n",
       "39633247969216454  9549.015422426164 ...     10  2376.092539526522\n",
       "39633244055930846  9454.587720155716 ...     10  923.2150750160217\n",
       "39633244060125069   9109.65688174963 ...     10  755.3465057015419\n",
       "39633247969217664   9067.46929191053 ...     10  58.42281249165535\n",
       "              ...                ... ...    ...                ...\n",
       "39633251869918332 10469.153350114822 ...     10  8882.317563772202\n",
       "39633247981798076  8753.556326627731 ...     10 3165.3135788440704\n",
       "39633244068512420  9588.848773807287 ...     10  710.6166116148233\n",
       "39633244068512891 10617.590784931555 ...     10 3185.5968277193606\n",
       "39633251869918063  8927.442602157593 ...     10 1533.5790348052979\n",
       "39633247977604889  8486.693697422743 ...     10 146.96154913306236\n",
       "39633247977604193    9020.2103266716 ...     10 1608.1532292366028\n",
       "39633247977606235  8672.849189251661 ...     10 252.06700292229652\n",
       "39633247977604001  8805.486389935017 ...     10 1134.3017597198486\n",
       "39633247977606231  9345.073833685368 ...     10 213.58127187844366"
      ]
     },
     "execution_count": 28,
     "metadata": {},
     "output_type": "execute_result"
    }
   ],
   "source": [
    "sv2_tiles = np.unique(expobstab[sv2]['TILEID'])\n",
    "tileid = sv2_tiles[0]\n",
    "\n",
    "# Get redshift data.\n",
    "rrtilefolder = sorted(glob('{}/{}/tiles/cumulative/{}/*'.format(prefix, redux, tileid)))[-1]\n",
    "rrfiles = sorted(glob('{}/redrock*.fits'.format(rrtilefolder)))\n",
    "redshifts = None\n",
    "fibermaps = None\n",
    "\n",
    "for rrfile in rrfiles:\n",
    "    redshift = Table.read(rrfile, 'REDSHIFTS')\n",
    "    fibermap = Table.read(rrfile, 'FIBERMAP')\n",
    "    \n",
    "    # Select galaxy targets with good redshifts.\n",
    "    select = (redshift['ZWARN']==0) & (redshift['DELTACHI2']>=25) & (redshift['SPECTYPE']=='GALAXY')\n",
    "    redshift = redshift[select]\n",
    "    \n",
    "    i = np.in1d(fibermap['TARGETID'], redshift['TARGETID'])\n",
    "    fibermap = fibermap[i]\n",
    "    \n",
    "    if redshifts is None:\n",
    "        redshifts = redshift\n",
    "        fibermaps = fibermap\n",
    "    else:\n",
    "        redshifts = vstack([redshifts, redshift])\n",
    "        fibermaps = vstack([fibermaps, fibermap])\n",
    "        \n",
    "redshifts"
   ]
  },
  {
   "cell_type": "code",
   "execution_count": 29,
   "id": "c6327b42-9507-4215-a63f-0480bbe943bb",
   "metadata": {},
   "outputs": [
    {
     "data": {
      "text/html": [
       "<i>Table length=2572</i>\n",
       "<table id=\"table46913396723872\" class=\"table-striped table-bordered table-condensed\">\n",
       "<thead><tr><th>TARGETID</th><th>PETAL_LOC</th><th>DEVICE_LOC</th><th>LOCATION</th><th>FIBER</th><th>COADD_FIBERSTATUS</th><th>TARGET_RA</th><th>TARGET_DEC</th><th>PMRA</th><th>PMDEC</th><th>REF_EPOCH</th><th>LAMBDA_REF</th><th>FA_TARGET</th><th>FA_TYPE</th><th>OBJTYPE</th><th>FIBERASSIGN_X</th><th>FIBERASSIGN_Y</th><th>PRIORITY</th><th>SUBPRIORITY</th><th>OBSCONDITIONS</th><th>RELEASE</th><th>BRICKID</th><th>BRICK_OBJID</th><th>MORPHTYPE</th><th>FLUX_G</th><th>FLUX_R</th><th>FLUX_Z</th><th>FLUX_IVAR_G</th><th>FLUX_IVAR_R</th><th>FLUX_IVAR_Z</th><th>MASKBITS</th><th>REF_ID</th><th>REF_CAT</th><th>GAIA_PHOT_G_MEAN_MAG</th><th>GAIA_PHOT_BP_MEAN_MAG</th><th>GAIA_PHOT_RP_MEAN_MAG</th><th>PARALLAX</th><th>BRICKNAME</th><th>EBV</th><th>FLUX_W1</th><th>FLUX_W2</th><th>FLUX_IVAR_W1</th><th>FLUX_IVAR_W2</th><th>FIBERFLUX_G</th><th>FIBERFLUX_R</th><th>FIBERFLUX_Z</th><th>FIBERTOTFLUX_G</th><th>FIBERTOTFLUX_R</th><th>FIBERTOTFLUX_Z</th><th>SERSIC</th><th>SHAPE_R</th><th>SHAPE_E1</th><th>SHAPE_E2</th><th>PHOTSYS</th><th>PRIORITY_INIT</th><th>NUMOBS_INIT</th><th>SV2_DESI_TARGET</th><th>SV2_BGS_TARGET</th><th>SV2_MWS_TARGET</th><th>SV2_SCND_TARGET</th><th>DESI_TARGET</th><th>BGS_TARGET</th><th>MWS_TARGET</th><th>PLATE_RA</th><th>PLATE_DEC</th><th>TILEID</th><th>COADD_NUMEXP</th><th>COADD_EXPTIME</th><th>COADD_NUMNIGHT</th><th>COADD_NUMTILE</th><th>MEAN_DELTA_X</th><th>RMS_DELTA_X</th><th>MEAN_DELTA_Y</th><th>RMS_DELTA_Y</th><th>MEAN_FIBER_RA</th><th>STD_FIBER_RA</th><th>MEAN_FIBER_DEC</th><th>STD_FIBER_DEC</th><th>MEAN_PSF_TO_FIBER_SPECFLUX</th><th>MEAN_FIBER_X</th><th>MEAN_FIBER_Y</th></tr></thead>\n",
       "<thead><tr><th>int64</th><th>int16</th><th>int32</th><th>int64</th><th>int32</th><th>int32</th><th>float64</th><th>float64</th><th>float32</th><th>float32</th><th>float32</th><th>float32</th><th>int64</th><th>uint8</th><th>bytes3</th><th>float32</th><th>float32</th><th>int32</th><th>float64</th><th>int32</th><th>int16</th><th>int32</th><th>int32</th><th>bytes4</th><th>float32</th><th>float32</th><th>float32</th><th>float32</th><th>float32</th><th>float32</th><th>int16</th><th>int64</th><th>bytes2</th><th>float32</th><th>float32</th><th>float32</th><th>float32</th><th>bytes8</th><th>float32</th><th>float32</th><th>float32</th><th>float32</th><th>float32</th><th>float32</th><th>float32</th><th>float32</th><th>float32</th><th>float32</th><th>float32</th><th>float32</th><th>float32</th><th>float32</th><th>float32</th><th>bytes1</th><th>int64</th><th>int64</th><th>int64</th><th>int64</th><th>int64</th><th>int64</th><th>int64</th><th>int64</th><th>int64</th><th>float64</th><th>float64</th><th>int32</th><th>int16</th><th>float32</th><th>int16</th><th>int16</th><th>float32</th><th>float32</th><th>float32</th><th>float32</th><th>float64</th><th>float32</th><th>float64</th><th>float32</th><th>float32</th><th>float32</th><th>float32</th></tr></thead>\n",
       "<tr><td>39633244055930066</td><td>0</td><td>311</td><td>311</td><td>0</td><td>0</td><td>170.8699857500975</td><td>49.76892754978972</td><td>0.0</td><td>0.0</td><td>2015.5</td><td>5400.0</td><td>1152921504606847233</td><td>1</td><td>TGT</td><td>86.48459</td><td>-287.65414</td><td>2100</td><td>0.9395785347629364</td><td>517</td><td>9011</td><td>583397</td><td>1234</td><td>SER</td><td>6.7733765</td><td>26.101282</td><td>61.48094</td><td>88.65161</td><td>20.110308</td><td>7.3127165</td><td>0</td><td>0</td><td></td><td>0.0</td><td>0.0</td><td>0.0</td><td>0.0</td><td>1709p497</td><td>0.014552638</td><td>94.740906</td><td>69.563866</td><td>1.3918839</td><td>0.45568678</td><td>1.5955441</td><td>6.1484475</td><td>14.48252</td><td>1.5955441</td><td>6.1484475</td><td>14.48252</td><td>6.0</td><td>2.8254607</td><td>-0.2689399</td><td>-0.14559409</td><td>N</td><td>2100</td><td>1</td><td>1152921504606847233</td><td>514</td><td>0</td><td>0</td><td>0</td><td>0</td><td>0</td><td>170.8699857500975</td><td>49.76892754978972</td><td>81056</td><td>2</td><td>1313.8176</td><td>1</td><td>1</td><td>0.0005</td><td>0.0015811388</td><td>-0.0035</td><td>0.008276473</td><td>170.86998841951865</td><td>0.05697174</td><td>49.768941031821846</td><td>0.10417267</td><td>0.7334719</td><td>86.463</td><td>-287.633</td></tr>\n",
       "<tr><td>39633244055931465</td><td>0</td><td>272</td><td>272</td><td>1</td><td>0</td><td>171.04050860064976</td><td>49.81567766823149</td><td>0.0</td><td>0.0</td><td>2015.5</td><td>5400.0</td><td>1152921504606846976</td><td>1</td><td>TGT</td><td>58.839222</td><td>-275.4177</td><td>2100</td><td>0.07787522391859647</td><td>519</td><td>9011</td><td>583397</td><td>2633</td><td>SER</td><td>3.3565753</td><td>11.44471</td><td>25.897852</td><td>223.83655</td><td>58.630627</td><td>27.196022</td><td>0</td><td>0</td><td></td><td>0.0</td><td>0.0</td><td>0.0</td><td>0.0</td><td>1709p497</td><td>0.013047796</td><td>42.421795</td><td>29.396263</td><td>2.685968</td><td>0.7934125</td><td>1.2381867</td><td>4.22177</td><td>9.553301</td><td>1.2386556</td><td>4.223061</td><td>9.554749</td><td>2.436738</td><td>1.2132702</td><td>-0.510567</td><td>-0.07645793</td><td>N</td><td>2100</td><td>1</td><td>1152921504606846976</td><td>265</td><td>0</td><td>0</td><td>0</td><td>0</td><td>0</td><td>171.04050860064976</td><td>49.81567766823149</td><td>81056</td><td>2</td><td>1313.8176</td><td>1</td><td>1</td><td>-0.001</td><td>0.0031622776</td><td>-0.001</td><td>0.008062257</td><td>171.04050228303038</td><td>0.10805533</td><td>49.815681557626405</td><td>0.111827195</td><td>0.74759036</td><td>58.82</td><td>-275.402</td></tr>\n",
       "<tr><td>39633247969217075</td><td>0</td><td>156</td><td>156</td><td>3</td><td>0</td><td>171.3726564024677</td><td>50.02008653112292</td><td>0.0</td><td>0.0</td><td>2015.5</td><td>5400.0</td><td>1152921504606846976</td><td>1</td><td>TGT</td><td>5.5479584</td><td>-223.10687</td><td>2100</td><td>0.7779726891458255</td><td>519</td><td>9011</td><td>584330</td><td>2611</td><td>EXP</td><td>3.2703528</td><td>10.009163</td><td>22.41547</td><td>216.66922</td><td>56.65909</td><td>21.803429</td><td>0</td><td>0</td><td></td><td>0.0</td><td>0.0</td><td>0.0</td><td>0.0</td><td>1712p500</td><td>0.012646031</td><td>48.417866</td><td>46.67838</td><td>2.5163128</td><td>0.72558516</td><td>0.96541643</td><td>2.95473</td><td>6.6171036</td><td>0.96541643</td><td>2.9547303</td><td>6.6171045</td><td>1.0</td><td>1.5573188</td><td>0.12452993</td><td>0.56345135</td><td>N</td><td>2100</td><td>1</td><td>1152921504606846976</td><td>265</td><td>0</td><td>0</td><td>0</td><td>0</td><td>0</td><td>171.3726564024677</td><td>50.02008653112292</td><td>81056</td><td>2</td><td>1313.8176</td><td>1</td><td>1</td><td>0.0005</td><td>0.0015811388</td><td>-0.0055</td><td>0.01097725</td><td>171.37265950745262</td><td>0.053619917</td><td>50.02010831773731</td><td>0.13545993</td><td>0.7440748</td><td>5.5325</td><td>-223.0945</td></tr>\n",
       "<tr><td>39633247973409609</td><td>0</td><td>198</td><td>198</td><td>4</td><td>0</td><td>171.56385095759393</td><td>49.906037354381255</td><td>0.0</td><td>0.0</td><td>2015.5</td><td>5400.0</td><td>1152921504606846976</td><td>1</td><td>TGT</td><td>-24.847942</td><td>-252.14806</td><td>2000</td><td>0.5895385918210945</td><td>519</td><td>9011</td><td>584331</td><td>841</td><td>SER</td><td>5.5453744</td><td>12.1173525</td><td>20.436043</td><td>238.69131</td><td>66.91228</td><td>53.33941</td><td>0</td><td>0</td><td></td><td>0.0</td><td>0.0</td><td>0.0</td><td>0.0</td><td>1716p500</td><td>0.011544353</td><td>24.202469</td><td>21.674526</td><td>3.2864256</td><td>0.88049877</td><td>2.067241</td><td>4.517186</td><td>7.618282</td><td>2.067241</td><td>4.517186</td><td>7.618282</td><td>0.656211</td><td>1.0204703</td><td>-0.34977415</td><td>0.022133052</td><td>N</td><td>2000</td><td>1</td><td>1152921504606846976</td><td>257</td><td>0</td><td>0</td><td>0</td><td>0</td><td>0</td><td>171.56385095759393</td><td>49.906037354381255</td><td>81056</td><td>2</td><td>1313.8176</td><td>1</td><td>1</td><td>0.0015</td><td>0.0021213202</td><td>-0.0025</td><td>0.006964194</td><td>171.56386044877956</td><td>0.05370741</td><td>49.90604716009227</td><td>0.09172942</td><td>0.7564313</td><td>-24.866</td><td>-252.1335</td></tr>\n",
       "<tr><td>39633247969214833</td><td>0</td><td>204</td><td>204</td><td>5</td><td>0</td><td>171.1349987403875</td><td>49.93465584578238</td><td>0.0</td><td>0.0</td><td>2015.5</td><td>5400.0</td><td>1152921504606846976</td><td>1</td><td>TGT</td><td>43.38268</td><td>-244.83165</td><td>2100</td><td>0.39619333773698395</td><td>519</td><td>9011</td><td>584330</td><td>369</td><td>EXP</td><td>3.8758903</td><td>10.001088</td><td>18.077236</td><td>191.58748</td><td>52.05757</td><td>19.117126</td><td>0</td><td>0</td><td></td><td>0.0</td><td>0.0</td><td>0.0</td><td>0.0</td><td>1712p500</td><td>0.011345739</td><td>20.424368</td><td>16.810085</td><td>3.155276</td><td>0.8581632</td><td>1.0839127</td><td>2.7968562</td><td>5.0553927</td><td>1.0839127</td><td>2.7968562</td><td>5.0553927</td><td>1.0</td><td>1.4869747</td><td>-0.13720122</td><td>-0.42124003</td><td>N</td><td>2100</td><td>1</td><td>1152921504606846976</td><td>265</td><td>0</td><td>0</td><td>0</td><td>0</td><td>0</td><td>171.1349987403875</td><td>49.93465584578238</td><td>81056</td><td>2</td><td>1313.8176</td><td>1</td><td>1</td><td>-0.0025</td><td>0.0025495098</td><td>-0.001</td><td>0.010049876</td><td>171.1349829762468</td><td>0.020839995</td><td>49.93465978472804</td><td>0.14142407</td><td>0.7430732</td><td>43.368</td><td>-244.821</td></tr>\n",
       "<tr><td>39633244060124915</td><td>0</td><td>233</td><td>233</td><td>6</td><td>0</td><td>171.32850792584995</td><td>49.843960431701916</td><td>0.0</td><td>0.0</td><td>2015.5</td><td>5400.0</td><td>1152921504606846976</td><td>1</td><td>TGT</td><td>12.676394</td><td>-268.04666</td><td>2000</td><td>0.9921260323280144</td><td>519</td><td>9011</td><td>583398</td><td>1779</td><td>EXP</td><td>5.270432</td><td>10.703696</td><td>16.990448</td><td>68.72597</td><td>32.613476</td><td>12.148704</td><td>0</td><td>0</td><td></td><td>0.0</td><td>0.0</td><td>0.0</td><td>0.0</td><td>1713p497</td><td>0.012739264</td><td>18.421175</td><td>12.144623</td><td>2.5237954</td><td>0.673537</td><td>0.8089095</td><td>1.6428106</td><td>2.6077054</td><td>0.8089095</td><td>1.6428106</td><td>2.6077054</td><td>1.0</td><td>3.5626233</td><td>0.3858025</td><td>0.7185396</td><td>N</td><td>2000</td><td>1</td><td>1152921504606846976</td><td>257</td><td>0</td><td>0</td><td>0</td><td>0</td><td>0</td><td>171.32850792584995</td><td>49.843960431701916</td><td>81056</td><td>2</td><td>1313.8176</td><td>1</td><td>1</td><td>-0.0005</td><td>0.0015811388</td><td>-0.0025</td><td>0.008860023</td><td>171.32850474600565</td><td>0.053365573</td><td>49.84397016800878</td><td>0.119170934</td><td>0.7363095</td><td>12.6585</td><td>-268.0305</td></tr>\n",
       "<tr><td>39633247969216454</td><td>0</td><td>172</td><td>172</td><td>7</td><td>0</td><td>171.30608706824307</td><td>49.994905794509776</td><td>0.0</td><td>0.0</td><td>2015.5</td><td>5400.0</td><td>1152921504606846976</td><td>1</td><td>TGT</td><td>16.107359</td><td>-229.48438</td><td>2100</td><td>0.7781610489540954</td><td>516</td><td>9011</td><td>584330</td><td>1990</td><td>SER</td><td>25.438868</td><td>85.49866</td><td>192.10759</td><td>57.382767</td><td>8.636534</td><td>7.631832</td><td>0</td><td>0</td><td></td><td>0.0</td><td>0.0</td><td>0.0</td><td>0.0</td><td>1712p500</td><td>0.011838034</td><td>215.16861</td><td>153.88281</td><td>1.0845801</td><td>0.4143294</td><td>5.186039</td><td>17.429996</td><td>39.16359</td><td>5.2005544</td><td>17.462835</td><td>39.16359</td><td>2.823151</td><td>1.9748725</td><td>0.052808613</td><td>-0.12021454</td><td>N</td><td>2100</td><td>1</td><td>1152921504606846976</td><td>514</td><td>0</td><td>0</td><td>0</td><td>0</td><td>0</td><td>171.30608706824307</td><td>49.994905794509776</td><td>81056</td><td>2</td><td>1313.8176</td><td>1</td><td>1</td><td>-0.0005</td><td>0.0007071068</td><td>-0.0015</td><td>0.0076485295</td><td>171.30608387931784</td><td>0.018629065</td><td>49.99491172247065</td><td>0.10670384</td><td>0.7444107</td><td>16.0925</td><td>-229.475</td></tr>\n",
       "<tr><td>39633244055930846</td><td>0</td><td>310</td><td>310</td><td>8</td><td>0</td><td>170.96655766173393</td><td>49.75601787854872</td><td>0.0</td><td>0.0</td><td>2015.5</td><td>5400.0</td><td>1152921504606846976</td><td>1</td><td>TGT</td><td>70.96908</td><td>-290.93674</td><td>2000</td><td>0.16828736331819039</td><td>519</td><td>9011</td><td>583397</td><td>2014</td><td>DEV</td><td>6.920843</td><td>10.959353</td><td>13.925321</td><td>59.141487</td><td>18.344336</td><td>12.084547</td><td>0</td><td>0</td><td></td><td>0.0</td><td>0.0</td><td>0.0</td><td>0.0</td><td>1709p497</td><td>0.014282212</td><td>12.050159</td><td>1.6304623</td><td>2.3785958</td><td>0.6123994</td><td>1.5604669</td><td>2.471044</td><td>3.139791</td><td>1.5605776</td><td>2.4712398</td><td>3.1400092</td><td>4.0</td><td>2.8226655</td><td>-0.034867167</td><td>-0.53816265</td><td>N</td><td>2000</td><td>1</td><td>1152921504606846976</td><td>257</td><td>0</td><td>0</td><td>0</td><td>0</td><td>0</td><td>170.96655766173393</td><td>49.75601787854872</td><td>81056</td><td>2</td><td>1313.8176</td><td>1</td><td>1</td><td>0.0</td><td>0.003</td><td>-0.0035</td><td>0.0065192026</td><td>170.96655730445076</td><td>0.10687501</td><td>49.75603135881535</td><td>0.076422185</td><td>0.7355605</td><td>70.9475</td><td>-290.9155</td></tr>\n",
       "<tr><td>39633244060125069</td><td>0</td><td>216</td><td>216</td><td>10</td><td>0</td><td>171.34560555175813</td><td>49.87319114171379</td><td>0.0</td><td>0.0</td><td>2015.5</td><td>5400.0</td><td>1152921504606846976</td><td>1</td><td>TGT</td><td>9.924597</td><td>-260.53278</td><td>2100</td><td>0.5534848041922983</td><td>516</td><td>9011</td><td>583398</td><td>1933</td><td>EXP</td><td>9.010402</td><td>19.631668</td><td>31.059177</td><td>143.31862</td><td>34.404423</td><td>15.176054</td><td>0</td><td>0</td><td></td><td>0.0</td><td>0.0</td><td>0.0</td><td>0.0</td><td>1713p497</td><td>0.012375117</td><td>26.024254</td><td>18.448952</td><td>3.0209072</td><td>0.83170646</td><td>1.9596657</td><td>4.269677</td><td>6.755038</td><td>1.9596657</td><td>4.269677</td><td>6.755038</td><td>1.0</td><td>1.534459</td><td>0.0059768725</td><td>0.21869421</td><td>N</td><td>2100</td><td>1</td><td>1152921504606846976</td><td>514</td><td>0</td><td>0</td><td>0</td><td>0</td><td>0</td><td>171.34560555175813</td><td>49.87319114171379</td><td>81056</td><td>2</td><td>1313.8176</td><td>1</td><td>1</td><td>-0.0035</td><td>0.0035355338</td><td>-0.006</td><td>0.009219544</td><td>171.3455835099677</td><td>0.016882017</td><td>49.87321457888408</td><td>0.09844025</td><td>0.74158704</td><td>9.91</td><td>-260.5145</td></tr>\n",
       "<tr><td>39633247969217664</td><td>0</td><td>170</td><td>170</td><td>12</td><td>0</td><td>171.43404690253868</td><td>50.007124128922456</td><td>0.0</td><td>0.0</td><td>2015.5</td><td>5400.0</td><td>1152921504606846976</td><td>1</td><td>TGT</td><td>-4.1681347</td><td>-226.39328</td><td>2000</td><td>0.6188635750689646</td><td>519</td><td>9011</td><td>584330</td><td>3200</td><td>DEV</td><td>3.8378537</td><td>15.086096</td><td>33.290592</td><td>152.30066</td><td>32.898174</td><td>23.017696</td><td>0</td><td>0</td><td></td><td>0.0</td><td>0.0</td><td>0.0</td><td>0.0</td><td>1712p500</td><td>0.012742446</td><td>42.871777</td><td>33.907425</td><td>2.6198409</td><td>0.7766808</td><td>1.4391285</td><td>5.657024</td><td>12.483395</td><td>1.4391285</td><td>5.657024</td><td>12.483395</td><td>4.0</td><td>1.0990181</td><td>0.13854055</td><td>0.3167657</td><td>N</td><td>2000</td><td>1</td><td>1152921504606846976</td><td>257</td><td>0</td><td>0</td><td>0</td><td>0</td><td>0</td><td>171.43404690253868</td><td>50.007124128922456</td><td>81056</td><td>2</td><td>1313.8176</td><td>1</td><td>1</td><td>0.002</td><td>0.002236068</td><td>-0.0015</td><td>0.006670832</td><td>171.43405953346132</td><td>0.03529148</td><td>50.00713006873208</td><td>0.09257483</td><td>0.7576283</td><td>-4.185</td><td>-226.384</td></tr>\n",
       "<tr><td>...</td><td>...</td><td>...</td><td>...</td><td>...</td><td>...</td><td>...</td><td>...</td><td>...</td><td>...</td><td>...</td><td>...</td><td>...</td><td>...</td><td>...</td><td>...</td><td>...</td><td>...</td><td>...</td><td>...</td><td>...</td><td>...</td><td>...</td><td>...</td><td>...</td><td>...</td><td>...</td><td>...</td><td>...</td><td>...</td><td>...</td><td>...</td><td>...</td><td>...</td><td>...</td><td>...</td><td>...</td><td>...</td><td>...</td><td>...</td><td>...</td><td>...</td><td>...</td><td>...</td><td>...</td><td>...</td><td>...</td><td>...</td><td>...</td><td>...</td><td>...</td><td>...</td><td>...</td><td>...</td><td>...</td><td>...</td><td>...</td><td>...</td><td>...</td><td>...</td><td>...</td><td>...</td><td>...</td><td>...</td><td>...</td><td>...</td><td>...</td><td>...</td><td>...</td><td>...</td><td>...</td><td>...</td><td>...</td><td>...</td><td>...</td><td>...</td><td>...</td><td>...</td><td>...</td><td>...</td><td>...</td></tr>\n",
       "<tr><td>39633251869918332</td><td>9</td><td>184</td><td>9184</td><td>4982</td><td>0</td><td>172.34335457179586</td><td>50.132332613262186</td><td>0.0</td><td>0.0</td><td>2015.5</td><td>5400.0</td><td>1152921504606846976</td><td>1</td><td>TGT</td><td>-148.12802</td><td>-195.13733</td><td>2100</td><td>0.028909356746822823</td><td>516</td><td>9011</td><td>585260</td><td>1148</td><td>REX</td><td>51.06844</td><td>100.50887</td><td>164.28995</td><td>77.379944</td><td>26.152536</td><td>13.980571</td><td>0</td><td>790253916377020544</td><td>G2</td><td>19.818678</td><td>0.0</td><td>0.0</td><td>0.0</td><td>1724p502</td><td>0.011657932</td><td>151.49927</td><td>107.74757</td><td>1.5339804</td><td>0.591629</td><td>12.911986</td><td>25.412352</td><td>41.538563</td><td>12.978811</td><td>25.525362</td><td>41.672398</td><td>1.0</td><td>1.099905</td><td>0.0</td><td>0.0</td><td>N</td><td>2100</td><td>1</td><td>1152921504606846976</td><td>514</td><td>0</td><td>0</td><td>0</td><td>0</td><td>0</td><td>172.34335457179586</td><td>50.132332613262186</td><td>81056</td><td>2</td><td>1313.8176</td><td>1</td><td>1</td><td>-0.001</td><td>0.002236068</td><td>-0.003</td><td>0.005</td><td>172.34334881864535</td><td>0.066478364</td><td>50.13234452285312</td><td>0.057144724</td><td>0.7570666</td><td>-148.132</td><td>-195.1235</td></tr>\n",
       "<tr><td>39633247981798076</td><td>9</td><td>233</td><td>9233</td><td>4984</td><td>0</td><td>172.33815546409255</td><td>50.035086758090785</td><td>0.0</td><td>0.0</td><td>2015.5</td><td>5400.0</td><td>1152921504606846976</td><td>1</td><td>TGT</td><td>-147.99014</td><td>-219.75026</td><td>2000</td><td>0.9527327827402332</td><td>519</td><td>9011</td><td>584333</td><td>700</td><td>DEV</td><td>7.746828</td><td>13.672532</td><td>19.606789</td><td>195.20947</td><td>79.270325</td><td>38.06064</td><td>0</td><td>0</td><td></td><td>0.0</td><td>0.0</td><td>0.0</td><td>0.0</td><td>1724p500</td><td>0.012164382</td><td>14.47315</td><td>7.0178943</td><td>3.4125497</td><td>0.9198482</td><td>3.5827808</td><td>6.3233213</td><td>9.067818</td><td>3.5827808</td><td>6.3233213</td><td>9.067818</td><td>4.0</td><td>0.69558847</td><td>0.25677225</td><td>-0.13583973</td><td>N</td><td>2000</td><td>1</td><td>1152921504606846976</td><td>257</td><td>0</td><td>0</td><td>0</td><td>0</td><td>0</td><td>172.33815546409255</td><td>50.035086758090785</td><td>81056</td><td>2</td><td>1313.8176</td><td>1</td><td>1</td><td>0.0045</td><td>0.005147815</td><td>0.001</td><td>0.0070710676</td><td>172.33818328325026</td><td>0.080286354</td><td>50.035082890318805</td><td>0.09919328</td><td>0.7638137</td><td>-148.0005</td><td>-219.7365</td></tr>\n",
       "<tr><td>39633244068512420</td><td>9</td><td>274</td><td>9274</td><td>4985</td><td>0</td><td>171.98401236536628</td><td>49.87461221298553</td><td>0.0</td><td>0.0</td><td>2015.5</td><td>5400.0</td><td>1152921504606847233</td><td>1</td><td>TGT</td><td>-92.09975</td><td>-260.44797</td><td>2100</td><td>0.6051231987418954</td><td>517</td><td>9011</td><td>583400</td><td>676</td><td>SER</td><td>8.208865</td><td>27.898428</td><td>66.12495</td><td>205.63309</td><td>57.315517</td><td>29.056145</td><td>0</td><td>0</td><td></td><td>0.0</td><td>0.0</td><td>0.0</td><td>0.0</td><td>1720p497</td><td>0.011995007</td><td>95.82716</td><td>72.86153</td><td>1.9479839</td><td>0.67408615</td><td>3.1190963</td><td>10.600476</td><td>25.125284</td><td>3.1321607</td><td>10.6389065</td><td>25.142454</td><td>2.3378706</td><td>1.0998502</td><td>-0.40953887</td><td>0.17254163</td><td>N</td><td>2100</td><td>1</td><td>1152921504606847233</td><td>514</td><td>0</td><td>0</td><td>0</td><td>0</td><td>0</td><td>171.98401236536628</td><td>49.87461221298553</td><td>81056</td><td>2</td><td>1313.8176</td><td>1</td><td>1</td><td>-0.0015</td><td>0.002915476</td><td>-0.0045</td><td>0.0071063354</td><td>171.98400355080935</td><td>0.08338738</td><td>49.87462972516846</td><td>0.0770092</td><td>0.7518084</td><td>-92.1115</td><td>-260.4265</td></tr>\n",
       "<tr><td>39633244068512891</td><td>9</td><td>292</td><td>9292</td><td>4986</td><td>0</td><td>172.03023250698175</td><td>49.85334967050079</td><td>0.0</td><td>0.0</td><td>2015.5</td><td>5400.0</td><td>1152921504606846976</td><td>1</td><td>TGT</td><td>-99.64208</td><td>-265.967</td><td>2100</td><td>0.820691965345302</td><td>516</td><td>9011</td><td>583400</td><td>1147</td><td>DEV</td><td>35.677418</td><td>111.47819</td><td>221.65492</td><td>66.0373</td><td>15.254954</td><td>6.2158213</td><td>2048</td><td>790055974222223360</td><td>G2</td><td>19.668257</td><td>19.017532</td><td>17.463219</td><td>0.0</td><td>1720p497</td><td>0.012156031</td><td>202.99419</td><td>134.08696</td><td>1.063604</td><td>0.42746013</td><td>8.257447</td><td>25.801342</td><td>51.301468</td><td>8.257447</td><td>25.801342</td><td>51.301468</td><td>4.0</td><td>2.3622882</td><td>-0.3591855</td><td>-0.023026802</td><td>N</td><td>2100</td><td>1</td><td>1152921504606846976</td><td>514</td><td>0</td><td>0</td><td>0</td><td>0</td><td>0</td><td>172.03023250698175</td><td>49.85334967050079</td><td>81056</td><td>2</td><td>1313.8176</td><td>1</td><td>1</td><td>0.0015</td><td>0.0021213202</td><td>-0.0065</td><td>0.008514693</td><td>172.03024267706436</td><td>0.048091274</td><td>49.8533749715636</td><td>0.076861866</td><td>0.73470336</td><td>-99.657</td><td>-265.9425</td></tr>\n",
       "<tr><td>39633251869918063</td><td>9</td><td>170</td><td>9170</td><td>4988</td><td>0</td><td>172.31008423418496</td><td>50.16207574680401</td><td>0.0</td><td>0.0</td><td>2015.5</td><td>5400.0</td><td>1152921504606846976</td><td>1</td><td>TGT</td><td>-142.60626</td><td>-187.63193</td><td>2100</td><td>0.8444715356888305</td><td>516</td><td>9011</td><td>585260</td><td>879</td><td>SER</td><td>16.1895</td><td>29.06655</td><td>42.05568</td><td>104.194336</td><td>34.31574</td><td>8.957992</td><td>0</td><td>0</td><td></td><td>0.0</td><td>0.0</td><td>0.0</td><td>0.0</td><td>1724p502</td><td>0.011631189</td><td>37.0685</td><td>26.470716</td><td>2.5765705</td><td>0.7366346</td><td>2.7657516</td><td>4.9656167</td><td>7.1846294</td><td>2.7657516</td><td>4.9656167</td><td>7.1846294</td><td>0.8463834</td><td>2.1087065</td><td>-0.30786034</td><td>-0.24757852</td><td>N</td><td>2100</td><td>1</td><td>1152921504606846976</td><td>514</td><td>0</td><td>0</td><td>0</td><td>0</td><td>0</td><td>172.31008423418496</td><td>50.16207574680401</td><td>81056</td><td>2</td><td>1313.8176</td><td>1</td><td>1</td><td>0.001</td><td>0.002236068</td><td>-0.001</td><td>0.0050990195</td><td>172.31009065563612</td><td>0.06602944</td><td>50.162079736244316</td><td>0.071652465</td><td>0.7463655</td><td>-142.613</td><td>-187.6215</td></tr>\n",
       "<tr><td>39633247977604889</td><td>9</td><td>220</td><td>9220</td><td>4990</td><td>0</td><td>172.07193842247682</td><td>49.98060977680681</td><td>0.0</td><td>0.0</td><td>2015.5</td><td>5400.0</td><td>1152921504606846976</td><td>1</td><td>TGT</td><td>-105.63583</td><td>-233.39345</td><td>2100</td><td>0.6265113894991601</td><td>519</td><td>9011</td><td>584332</td><td>1817</td><td>EXP</td><td>4.822763</td><td>12.013978</td><td>20.584509</td><td>123.521194</td><td>40.066845</td><td>11.832241</td><td>0</td><td>0</td><td></td><td>0.0</td><td>0.0</td><td>0.0</td><td>0.0</td><td>1720p500</td><td>0.012093717</td><td>21.818096</td><td>18.061535</td><td>2.851249</td><td>0.77789134</td><td>0.79449755</td><td>1.9791716</td><td>3.391073</td><td>0.7945082</td><td>1.979185</td><td>3.3910797</td><td>1.0</td><td>2.454375</td><td>0.4891713</td><td>-0.059706792</td><td>N</td><td>2100</td><td>1</td><td>1152921504606846976</td><td>265</td><td>0</td><td>0</td><td>0</td><td>0</td><td>0</td><td>172.07193842247682</td><td>49.98060977680681</td><td>81056</td><td>2</td><td>1313.8176</td><td>1</td><td>1</td><td>0.0025</td><td>0.002915476</td><td>-0.0065</td><td>0.008514693</td><td>172.0719548930326</td><td>0.048559282</td><td>49.980635391095504</td><td>0.07782974</td><td>0.7378702</td><td>-105.6495</td><td>-233.374</td></tr>\n",
       "<tr><td>39633247977604193</td><td>9</td><td>238</td><td>9238</td><td>4992</td><td>0</td><td>171.99961883203383</td><td>49.94800448816589</td><td>0.0</td><td>0.0</td><td>2015.5</td><td>5400.0</td><td>1152921504606846976</td><td>1</td><td>TGT</td><td>-94.23501</td><td>-241.65375</td><td>2000</td><td>0.618325330494646</td><td>519</td><td>9011</td><td>584332</td><td>1121</td><td>REX</td><td>5.848901</td><td>10.301471</td><td>13.337794</td><td>165.26485</td><td>51.653282</td><td>8.7852955</td><td>0</td><td>0</td><td></td><td>0.0</td><td>0.0</td><td>0.0</td><td>0.0</td><td>1720p500</td><td>0.011869211</td><td>10.445382</td><td>7.661046</td><td>3.4874313</td><td>0.9263033</td><td>1.1655108</td><td>2.0527744</td><td>2.6578228</td><td>1.1655108</td><td>2.0527744</td><td>2.6578228</td><td>1.0</td><td>1.3378228</td><td>0.0</td><td>0.0</td><td>N</td><td>2000</td><td>1</td><td>1152921504606846976</td><td>257</td><td>0</td><td>0</td><td>0</td><td>0</td><td>0</td><td>171.99961883203383</td><td>49.94800448816589</td><td>81056</td><td>2</td><td>1313.8176</td><td>1</td><td>1</td><td>0.0005</td><td>0.0015811388</td><td>-0.0065</td><td>0.009924716</td><td>171.99962271653487</td><td>0.04759389</td><td>49.94803001164822</td><td>0.10590707</td><td>0.74480546</td><td>-94.2475</td><td>-241.6335</td></tr>\n",
       "<tr><td>39633247977606235</td><td>9</td><td>252</td><td>9252</td><td>4993</td><td>0</td><td>172.22857066832535</td><td>49.96132479131785</td><td>0.0</td><td>0.0</td><td>2015.5</td><td>5400.0</td><td>1152921504606846976</td><td>1</td><td>TGT</td><td>-130.88377</td><td>-238.4489</td><td>2000</td><td>0.4527477997772895</td><td>519</td><td>9011</td><td>584332</td><td>3163</td><td>SER</td><td>5.962082</td><td>13.8936</td><td>21.724375</td><td>166.91241</td><td>56.442818</td><td>10.917904</td><td>0</td><td>0</td><td></td><td>0.0</td><td>0.0</td><td>0.0</td><td>0.0</td><td>1720p500</td><td>0.010857176</td><td>20.443121</td><td>15.6165695</td><td>3.2123952</td><td>0.86638445</td><td>1.3350903</td><td>3.1111968</td><td>4.8647437</td><td>1.3350903</td><td>3.1111968</td><td>4.8647437</td><td>0.622085</td><td>1.6330041</td><td>-0.34981033</td><td>-0.14659251</td><td>N</td><td>2000</td><td>1</td><td>1152921504606846976</td><td>257</td><td>0</td><td>0</td><td>0</td><td>0</td><td>0</td><td>172.22857066832535</td><td>49.96132479131785</td><td>81056</td><td>2</td><td>1313.8176</td><td>1</td><td>1</td><td>0.0</td><td>0.001</td><td>-0.0045</td><td>0.006363961</td><td>172.2285713953105</td><td>0.030740479</td><td>49.961342438042735</td><td>0.063457154</td><td>0.74426883</td><td>-130.892</td><td>-238.428</td></tr>\n",
       "<tr><td>39633247977604001</td><td>9</td><td>256</td><td>9256</td><td>4996</td><td>0</td><td>171.97870921009513</td><td>49.88973667105244</td><td>0.0</td><td>0.0</td><td>2015.5</td><td>5400.0</td><td>1152921504606846976</td><td>1</td><td>TGT</td><td>-91.173164</td><td>-256.5566</td><td>2100</td><td>0.9967630936868878</td><td>516</td><td>9011</td><td>584332</td><td>929</td><td>REX</td><td>8.071027</td><td>21.672453</td><td>39.913574</td><td>228.6139</td><td>70.953</td><td>28.435337</td><td>0</td><td>0</td><td></td><td>0.0</td><td>0.0</td><td>0.0</td><td>0.0</td><td>1720p500</td><td>0.011849904</td><td>46.452908</td><td>34.248844</td><td>2.8281605</td><td>0.8534284</td><td>3.0573816</td><td>8.209731</td><td>15.11964</td><td>3.0573816</td><td>8.209731</td><td>15.11964</td><td>1.0</td><td>0.74305457</td><td>0.0</td><td>0.0</td><td>N</td><td>2100</td><td>1</td><td>1152921504606846976</td><td>514</td><td>0</td><td>0</td><td>0</td><td>0</td><td>0</td><td>171.97870921009513</td><td>49.88973667105244</td><td>81056</td><td>2</td><td>1313.8176</td><td>1</td><td>1</td><td>0.0015</td><td>0.0021213202</td><td>-0.007</td><td>0.008062257</td><td>171.97871938060229</td><td>0.0548811</td><td>49.8897640247974</td><td>0.056311324</td><td>0.7620345</td><td>-91.1875</td><td>-256.5335</td></tr>\n",
       "<tr><td>39633247977606231</td><td>9</td><td>234</td><td>9234</td><td>4998</td><td>0</td><td>172.2281883143464</td><td>50.00602587965263</td><td>0.0</td><td>0.0</td><td>2015.5</td><td>5400.0</td><td>1152921504606846976</td><td>1</td><td>TGT</td><td>-130.52103</td><td>-227.04802</td><td>2000</td><td>0.7742091912397239</td><td>519</td><td>9011</td><td>584332</td><td>3159</td><td>SER</td><td>3.921167</td><td>10.997368</td><td>20.68192</td><td>214.16551</td><td>106.696106</td><td>49.159054</td><td>0</td><td>0</td><td></td><td>0.0</td><td>0.0</td><td>0.0</td><td>0.0</td><td>1720p500</td><td>0.011100233</td><td>21.1471</td><td>14.845032</td><td>3.479892</td><td>0.95204985</td><td>2.1670427</td><td>6.0777225</td><td>11.429914</td><td>2.1670427</td><td>6.0777225</td><td>11.429914</td><td>2.2580512</td><td>0.5346671</td><td>-0.16779763</td><td>-0.36118716</td><td>N</td><td>2000</td><td>1</td><td>1152921504606846976</td><td>257</td><td>0</td><td>0</td><td>0</td><td>0</td><td>0</td><td>172.2281883143464</td><td>50.00602587965263</td><td>81056</td><td>2</td><td>1313.8176</td><td>1</td><td>1</td><td>0.003</td><td>0.0036055513</td><td>-0.0085</td><td>0.009617692</td><td>172.22820835369336</td><td>0.06588496</td><td>50.00605939792736</td><td>0.06366776</td><td>0.76959604</td><td>-130.532</td><td>-227.0255</td></tr>\n",
       "</table>"
      ],
      "text/plain": [
       "<Table length=2572>\n",
       "     TARGETID     PETAL_LOC DEVICE_LOC ... MEAN_FIBER_X MEAN_FIBER_Y\n",
       "      int64         int16     int32    ...   float32      float32   \n",
       "----------------- --------- ---------- ... ------------ ------------\n",
       "39633244055930066         0        311 ...       86.463     -287.633\n",
       "39633244055931465         0        272 ...        58.82     -275.402\n",
       "39633247969217075         0        156 ...       5.5325    -223.0945\n",
       "39633247973409609         0        198 ...      -24.866    -252.1335\n",
       "39633247969214833         0        204 ...       43.368     -244.821\n",
       "39633244060124915         0        233 ...      12.6585    -268.0305\n",
       "39633247969216454         0        172 ...      16.0925     -229.475\n",
       "39633244055930846         0        310 ...      70.9475    -290.9155\n",
       "39633244060125069         0        216 ...         9.91    -260.5145\n",
       "39633247969217664         0        170 ...       -4.185     -226.384\n",
       "              ...       ...        ... ...          ...          ...\n",
       "39633251869918332         9        184 ...     -148.132    -195.1235\n",
       "39633247981798076         9        233 ...    -148.0005    -219.7365\n",
       "39633244068512420         9        274 ...     -92.1115    -260.4265\n",
       "39633244068512891         9        292 ...      -99.657    -265.9425\n",
       "39633251869918063         9        170 ...     -142.613    -187.6215\n",
       "39633247977604889         9        220 ...    -105.6495     -233.374\n",
       "39633247977604193         9        238 ...     -94.2475    -241.6335\n",
       "39633247977606235         9        252 ...     -130.892     -238.428\n",
       "39633247977604001         9        256 ...     -91.1875    -256.5335\n",
       "39633247977606231         9        234 ...     -130.532    -227.0255"
      ]
     },
     "execution_count": 29,
     "metadata": {},
     "output_type": "execute_result"
    }
   ],
   "source": [
    "fibermaps"
   ]
  },
  {
   "cell_type": "code",
   "execution_count": 30,
   "id": "4b322e7b-9496-4dd3-b22c-f4d02c51af9f",
   "metadata": {},
   "outputs": [
    {
     "data": {
      "image/png": "[encoded data removed]",
      "text/plain": [
       "<Figure size 432x288 with 1 Axes>"
      ]
     },
     "metadata": {
      "needs_background": "light"
     },
     "output_type": "display_data"
    }
   ],
   "source": [
    "#View distribution of redshifts\n",
    "r = 22.5 - 2.5*np.log10(fibermaps['FLUX_R'])\n",
    "plt.hist(redshifts['Z'], bins=100);"
   ]
  },
  {
   "cell_type": "markdown",
   "id": "b9e4680e-a88b-452c-88ef-19780d164efd",
   "metadata": {},
   "source": [
    "### Extract ~50,000 Model Fluxes which will serve as hosts"
   ]
  },
  {
   "cell_type": "code",
   "execution_count": 31,
   "id": "7df40525-d2e9-4e33-8c19-87ac873d9cae",
   "metadata": {},
   "outputs": [
    {
     "data": {
      "text/plain": [
       "90"
      ]
     },
     "execution_count": 31,
     "metadata": {},
     "output_type": "execute_result"
    }
   ],
   "source": [
    "# Host fluxes,FLUX_R and tileid saved in dictionary with redshifts as keys.\n",
    "hosts=dict()\n",
    "sv2_tiles = np.unique(expobstab[sv2]['TILEID'])\n",
    "\n",
    "for i in range (len(sv2_tiles)):\n",
    "\n",
    "    tileid = sv2_tiles[i]\n",
    "   \n",
    "\n",
    "    # Get redshift data.\n",
    "    rrtilefolder = sorted(glob('{}/{}/tiles/cumulative/{}/*'.format(prefix, redux, tileid)))[-1]\n",
    "    rrfiles = sorted(glob('{}/redrock*.fits'.format(rrtilefolder)))\n",
    "    redshifts = None\n",
    "    fibermaps = None\n",
    "\n",
    "    for rrfile in rrfiles:\n",
    "        redshift = Table.read(rrfile, 'REDSHIFTS')\n",
    "        fibermap = Table.read(rrfile, 'FIBERMAP')\n",
    "\n",
    "        # Select galaxy targets with good redshifts.\n",
    "        select = (redshift['ZWARN']==0) & (redshift['DELTACHI2']>=25) & (redshift['SPECTYPE']=='GALAXY')\n",
    "        redshift = redshift[select]\n",
    "\n",
    "        j = np.in1d(fibermap['TARGETID'], redshift['TARGETID'])\n",
    "        fibermap = fibermap[j]\n",
    "\n",
    "        if redshifts is None:\n",
    "            redshifts = redshift\n",
    "            fibermaps = fibermap\n",
    "        else:\n",
    "            redshifts = vstack([redshifts, redshift])\n",
    "            fibermaps = vstack([fibermaps, fibermap])\n",
    "\n",
    "\n",
    "\n",
    "    n=5\n",
    "\n",
    "    for r in range(n):\n",
    "            wave = np.arange(3300., 11000)\n",
    "\n",
    "\n",
    "            targetid, z, sp, sb, coeff = redshifts[r][['TARGETID', 'Z', 'SPECTYPE', 'SUBTYPE', 'COEFF']]\n",
    "\n",
    "            fmap_select = fibermaps['TARGETID'] == targetid\n",
    "            row = fibermaps[['FLUX_R', 'FIBERFLUX_R']][fmap_select]\n",
    "            flux_r, fiberflux_r = [row[_] for _ in ['FLUX_R', 'FIBERFLUX_R']]\n",
    "            r_gal = 22.5 - 2.5*np.log10(flux_r)\n",
    "\n",
    "            #if z<0.0:\n",
    "               # pass\n",
    "\n",
    "            #else:\n",
    "\n",
    "            ncoeff = templates[(sp, sb)].flux.shape[0]\n",
    "            coeff = coeff[0:ncoeff]\n",
    "\n",
    "\n",
    "            tflux = templates[(sp, sb)].flux.T.dot(coeff)\n",
    "            twave = templates[(sp, sb)].wave * (1 + z)\n",
    "\n",
    "\n",
    "            txflux = resample_flux(wave, twave, tflux, ivar=None, extrapolate=False)\n",
    "            key=str(z)\n",
    "            items=(txflux,flux_r,tileid,targetid)\n",
    "            hosts[key]=items\n",
    "\n",
    "\n",
    "\n",
    "           \n",
    "\n",
    "len(hosts)"
   ]
  },
  {
   "cell_type": "markdown",
   "id": "95af4492-93fb-4f4d-a6cb-0d3c469ed49b",
   "metadata": {},
   "source": [
    "## Random visual check of Hosts"
   ]
  },
  {
   "cell_type": "code",
   "execution_count": 15,
   "id": "dca97a81-7cae-4811-8193-50f939529036",
   "metadata": {},
   "outputs": [
    {
     "data": {
      "text/plain": [
       "[<matplotlib.lines.Line2D at 0x2aaae0ccb610>]"
      ]
     },
     "execution_count": 15,
     "metadata": {},
     "output_type": "execute_result"
    },
    {
     "data": {
      "image/png": "[encoded data removed]",
      "text/plain": [
       "<Figure size 432x288 with 1 Axes>"
      ]
     },
     "metadata": {
      "needs_background": "light"
     },
     "output_type": "display_data"
    }
   ],
   "source": [
    "keys=list(hosts.keys())\n",
    "i = random.choice(keys)\n",
    "plt.plot(wave, hosts[i][0])"
   ]
  },
  {
   "cell_type": "markdown",
   "id": "bb156923-2b09-41aa-9f74-aa3cb83baa91",
   "metadata": {},
   "source": [
    "### Read models from Vincenzi file"
   ]
  },
  {
   "cell_type": "code",
   "execution_count": 16,
   "id": "517fe9b8-1437-4576-8418-4d3e5c558616",
   "metadata": {},
   "outputs": [
    {
     "data": {
      "text/html": [
       "<i>Table length=51</i>\n",
       "<table id=\"table46913405448832\" class=\"table-striped table-bordered table-condensed\">\n",
       "<thead><tr><th>Name</th><th>Type</th><th>Redshift</th><th>Peak MB</th><th>Optical data</th><th>Near-UV data</th><th>Nspectra</th><th>EBV</th></tr></thead>\n",
       "<thead><tr><th>bytes10</th><th>bytes8</th><th>float64</th><th>float64</th><th>bytes13</th><th>bytes20</th><th>int64</th><th>float64</th></tr></thead>\n",
       "<tr><td>ASASSN15oz</td><td>II</td><td>0.00693</td><td>-18.19</td><td>UBVRIgri</td><td>u,b,v,uvw1,uvm2,uvw2</td><td>13</td><td>0.0</td></tr>\n",
       "<tr><td>SN2014G</td><td>II</td><td>0.00563</td><td>-18.1</td><td>UBVRI</td><td>v,uvw1,uvm2,uvw2</td><td>17</td><td>0.24</td></tr>\n",
       "<tr><td>SN2007od</td><td>II</td><td>0.00586</td><td>-17.93</td><td>UBVRIri</td><td>u,b,v,uvw1,uvm2,uvw2</td><td>13</td><td>0.0</td></tr>\n",
       "<tr><td>SN2013ej</td><td>II</td><td>0.00219</td><td>-17.76</td><td>UBVRIgriz</td><td>u,b,v,uvw1,uvm2,uvw2</td><td>28</td><td>0.049</td></tr>\n",
       "<tr><td>SN2008bj</td><td>II</td><td>0.019</td><td>-17.48</td><td>UBVri</td><td></td><td>16</td><td>0.081</td></tr>\n",
       "<tr><td>SN2016X</td><td>II</td><td>0.00441</td><td>-17.38</td><td>UBVRIgri</td><td>u,b,v,uvw1,uvm2,uvw2</td><td>33</td><td>0.02</td></tr>\n",
       "<tr><td>SN2013ab</td><td>II</td><td>0.00532</td><td>-17.14</td><td>BVRIgri</td><td>u,b,uvw1,uvm2,uvw2</td><td>22</td><td>0.02</td></tr>\n",
       "<tr><td>SN2004et</td><td>II</td><td>0.00105</td><td>-17.09</td><td>UBVRI</td><td></td><td>28</td><td>0.07</td></tr>\n",
       "<tr><td>SN2008in</td><td>II</td><td>0.00522</td><td>-16.96</td><td>BVri</td><td>u,b,v,uvw1,uvm2,uvw2</td><td>10</td><td>0.076</td></tr>\n",
       "<tr><td>SN2009dd</td><td>II</td><td>0.00246</td><td>-16.81</td><td>UBVRIri</td><td></td><td>6</td><td>0.433</td></tr>\n",
       "<tr><td>...</td><td>...</td><td>...</td><td>...</td><td>...</td><td>...</td><td>...</td><td>...</td></tr>\n",
       "<tr><td>SN2007Y</td><td>Ib</td><td>0.0046</td><td>-16.32</td><td>BVugri</td><td>u,b,v,uvw1,uvm2,uvw2</td><td>6</td><td>0.09</td></tr>\n",
       "<tr><td>SN2004aw</td><td>Ic</td><td>0.0159</td><td>-17.66</td><td>UBVRI</td><td></td><td>23</td><td>0.35</td></tr>\n",
       "<tr><td>SN2004fe</td><td>Ic</td><td>0.018</td><td>-17.05</td><td>BVugri</td><td></td><td>9</td><td>0.0</td></tr>\n",
       "<tr><td>SN2004gt</td><td>Ic</td><td>0.00548</td><td>-16.66</td><td>BVugri</td><td></td><td>13</td><td>0.237</td></tr>\n",
       "<tr><td>SN2013ge</td><td>Ic</td><td>0.0055</td><td>-16.57</td><td>VRIri</td><td>u,b,v,uvw1,uvm2,uvw2</td><td>18</td><td>0.047</td></tr>\n",
       "<tr><td>SN2011bm</td><td>Ic</td><td>0.0022</td><td>-13.1</td><td>UBVRIugriz</td><td></td><td>13</td><td>0.032</td></tr>\n",
       "<tr><td>SN2006aj</td><td>Ic-BL</td><td>0.0334</td><td>-19.33</td><td>UBVri</td><td>u,b,v,uvw1,uvm2,uvw2</td><td>22</td><td>0.2</td></tr>\n",
       "<tr><td>SN1998bw</td><td>Ic-BL</td><td>0.0085</td><td>-18.93</td><td>UBVRI</td><td></td><td>21</td><td>0.0</td></tr>\n",
       "<tr><td>SN2012ap</td><td>Ic-BL</td><td>0.0121</td><td>-17.66</td><td>BVRI</td><td>u,b,v,uvw1</td><td>12</td><td>0.4</td></tr>\n",
       "<tr><td>SN2002ap</td><td>Ic-BL</td><td>0.0022</td><td>-17.07</td><td>UBVRI</td><td></td><td>23</td><td>0.008</td></tr>\n",
       "</table>"
      ],
      "text/plain": [
       "<Table length=51>\n",
       "   Name     Type  Redshift Peak MB ...     Near-UV data     Nspectra   EBV  \n",
       " bytes10   bytes8 float64  float64 ...       bytes20         int64   float64\n",
       "---------- ------ -------- ------- ... -------------------- -------- -------\n",
       "ASASSN15oz     II  0.00693  -18.19 ... u,b,v,uvw1,uvm2,uvw2       13     0.0\n",
       "   SN2014G     II  0.00563   -18.1 ...     v,uvw1,uvm2,uvw2       17    0.24\n",
       "  SN2007od     II  0.00586  -17.93 ... u,b,v,uvw1,uvm2,uvw2       13     0.0\n",
       "  SN2013ej     II  0.00219  -17.76 ... u,b,v,uvw1,uvm2,uvw2       28   0.049\n",
       "  SN2008bj     II    0.019  -17.48 ...                            16   0.081\n",
       "   SN2016X     II  0.00441  -17.38 ... u,b,v,uvw1,uvm2,uvw2       33    0.02\n",
       "  SN2013ab     II  0.00532  -17.14 ...   u,b,uvw1,uvm2,uvw2       22    0.02\n",
       "  SN2004et     II  0.00105  -17.09 ...                            28    0.07\n",
       "  SN2008in     II  0.00522  -16.96 ... u,b,v,uvw1,uvm2,uvw2       10   0.076\n",
       "  SN2009dd     II  0.00246  -16.81 ...                             6   0.433\n",
       "       ...    ...      ...     ... ...                  ...      ...     ...\n",
       "   SN2007Y     Ib   0.0046  -16.32 ... u,b,v,uvw1,uvm2,uvw2        6    0.09\n",
       "  SN2004aw     Ic   0.0159  -17.66 ...                            23    0.35\n",
       "  SN2004fe     Ic    0.018  -17.05 ...                             9     0.0\n",
       "  SN2004gt     Ic  0.00548  -16.66 ...                            13   0.237\n",
       "  SN2013ge     Ic   0.0055  -16.57 ... u,b,v,uvw1,uvm2,uvw2       18   0.047\n",
       "  SN2011bm     Ic   0.0022   -13.1 ...                            13   0.032\n",
       "  SN2006aj  Ic-BL   0.0334  -19.33 ... u,b,v,uvw1,uvm2,uvw2       22     0.2\n",
       "  SN1998bw  Ic-BL   0.0085  -18.93 ...                            21     0.0\n",
       "  SN2012ap  Ic-BL   0.0121  -17.66 ...           u,b,v,uvw1       12     0.4\n",
       "  SN2002ap  Ic-BL   0.0022  -17.07 ...                            23   0.008"
      ]
     },
     "execution_count": 16,
     "metadata": {},
     "output_type": "execute_result"
    }
   ],
   "source": [
    "# Import models from Vincenzo et al.\n",
    "modtab = Table.read('vincenzi_2019_models.fits')\n",
    "\n",
    "\n",
    "#Remove the models deemed faulty from visual inspection\n",
    "faulty = ['SN2013by','SN2013fs','SN2009bw','SN2012aw','SN2009kr','ASASSN14jb','SN2013am','SN2008ax','SN2008fq','SN2009ip','IPTF13bvn','SN2008D','SN1994I',\n",
    "'SN2007gr','SN2009bb','SN2007ru']\n",
    "select = [x not in faulty for x in modtab['Name']]\n",
    "\n",
    "# Black list some of the models. Create the key needed to set up sncosmo.\n",
    "models = modtab[select]\n",
    "models"
   ]
  },
  {
   "cell_type": "markdown",
   "id": "64ad8d7d-fe7f-4364-9518-2ea1782f3e8b",
   "metadata": {},
   "source": [
    "#### Generating hosts takes some time, use copies for easier manipulation"
   ]
  },
  {
   "cell_type": "code",
   "execution_count": 17,
   "id": "620d5136-85aa-4ea9-80e1-af1745ff5d3d",
   "metadata": {},
   "outputs": [],
   "source": [
    "hosts2=hosts.copy()\n",
    "keys2=keys.copy()"
   ]
  },
  {
   "cell_type": "code",
   "execution_count": 18,
   "id": "a1e8926d-d28a-43e6-be87-b1cb3770be98",
   "metadata": {},
   "outputs": [],
   "source": [
    "def calc_flux(z, t, model, obswave, return_range=False):\n",
    "    \"\"\"Compute flux from an sncosmo model given redshift and time.\n",
    "    \n",
    "    Parameters\n",
    "    ----------\n",
    "    z : float\n",
    "        Source redshift.\n",
    "    t : float\n",
    "        Source phase / epoch (usually time to max light in days).\n",
    "    model : sncosmo.models.Model\n",
    "        Model with builtin flux.\n",
    "    obswave : ndarray\n",
    "        Input array of observed wavelengths.\n",
    "    return_range : bool\n",
    "        If true, return model min and max wavelength.\n",
    "    \n",
    "    Returns\n",
    "    -------\n",
    "    flux : ndarray\n",
    "        Model flux calculated vs obswave.\n",
    "    minwave : float (optional)\n",
    "        Minimum wavelength of model given redshift z.\n",
    "    maxwave : float (optional)\n",
    "        Maximum wavelength of model given redshift z.\n",
    "    \"\"\"\n",
    "    model.set(z=z)\n",
    "    select = (obswave >= model.minwave()) & (obswave <= model.maxwave())\n",
    "    flux = np.zeros_like(obswave)\n",
    "    j=model.flux(t,obswave[select])\n",
    "\n",
    "    flux[select] = j[0]\n",
    "    if return_range:\n",
    "        return flux, model.minwave(), model.maxwave()\n",
    "    return flux"
   ]
  },
  {
   "cell_type": "markdown",
   "id": "5625940d-d365-4f8f-a11b-03438e5bfe91",
   "metadata": {},
   "source": [
    "### Function used to generate SN fluxes"
   ]
  },
  {
   "cell_type": "code",
   "execution_count": 19,
   "id": "f1698593-3730-4341-9083-3c5554fd3f7f",
   "metadata": {},
   "outputs": [],
   "source": [
    "def generate_ccsn(models,sel,hosts):\n",
    "    \n",
    "    \"\"\" Function that generates CCSN fluxes added to hosts\n",
    "    \n",
    "    Parameters\n",
    "    ----------\n",
    "    \n",
    "    models : list/Table\n",
    "        list with different SN models to be generated\n",
    "        \n",
    "    sel    :  Array \n",
    "        Boolean array used to distinguish SN type\n",
    "    \n",
    "    hosts  : Dictionary\n",
    "        Dictionary with redshifts as keys and a tuple as the items.\n",
    "        first entry of tuple corresponds to an array of flux values\n",
    "        second entry is the Flux_R drawn from fibermaps\n",
    "    \n",
    "    Returns\n",
    "    ----------\n",
    "    ccsnfluxes : Array\n",
    "        Array of SN fluxes\n",
    "        \n",
    "    ccsn_host   : Array\n",
    "        Array of SN fluxes added to host fluxes\n",
    "    \n",
    "    \n",
    "    \"\"\"\n",
    "    \n",
    "    ccsnfluxes=[]\n",
    "    ccsn_host=[]\n",
    "    \n",
    "    \n",
    "    for model in models[sel]:\n",
    "            tp = model['Type']\n",
    "            \n",
    "            if tp==\"II\":\n",
    "                n=400\n",
    "            elif tp==\"IIb\":\n",
    "                n=600\n",
    "            elif tp==\"IIn\" or tp==\"Ic-BL\":\n",
    "                n=1500\n",
    "            elif tp ==\"Ib\":\n",
    "                n=500\n",
    "            else:\n",
    "                n=1200\n",
    "        \n",
    "            for i in range (n):\n",
    "\n",
    "                redshift = random.choice(keys2)\n",
    "                host_flux = hosts2[redshift][0]\n",
    "                tileid=hosts2[redshift][-1]\n",
    "                flux_r=hosts2[redshift][1]\n",
    "                r_gal = 22.5 - 2.5*np.log10(flux_r)\n",
    "\n",
    "                nm = model['Name']\n",
    "                tp = model['Type']\n",
    "\n",
    "                if nm.startswith('SN'):\n",
    "                        model_name= 'v19-{}-corr'.format(nm[2:].lower())\n",
    "                        ccsn = Model(model_name)\n",
    "\n",
    "                else:\n",
    "                  model_name = 'v19-{}-corr'.format(nm.lower())\n",
    "                  ccsn= Model(model_name)\n",
    "\n",
    "                wmin = np.maximum(3300., ccsn.minwave())\n",
    "                wmax = np.minimum(11000., ccsn.maxwave())\n",
    "                wave = np.arange(wmin, wmax)\n",
    "\n",
    "\n",
    "                # Set redshift and apparent magnitude in the r-band, using SDSS filter.\n",
    "                \n",
    "                #Different phases of SN 14 days prior and after maximum light\n",
    "                tmin = np.maximum(np.round(ccsn.mintime(), 0), -14)\n",
    "                tmax = np.minimum(np.round(ccsn.maxtime(), 0), 28)\n",
    "                times = np.round(np.linspace(tmin, tmax, 21), 0)\n",
    "                t = np.random.choice(times, size=1, replace=False)\n",
    "                \n",
    "            \n",
    "                z= float(redshift)\n",
    "                ccsnflux = calc_flux(z, t=t, model=ccsn, obswave=wave) * 1e17 * 0.6\n",
    "                \n",
    "                magnitudes=np.round(np.linspace(0,5, 16), 0)\n",
    "                delta_r = np.random.choice(magnitudes, size=1, replace=False)\n",
    "                rfluxratio = 10**(-delta_r/2.5)\n",
    "\n",
    "                \n",
    "                #print(t,nm,z)\n",
    "\n",
    "                ccsn.set_source_peakmag(r_gal, band='desr', magsys='vega')\n",
    "\n",
    "                galnorm = rfilt.get_ab_maggies(txflux, wave)\n",
    "                fluxr_gal = galnorm['decam2014-r'].data\n",
    "\n",
    "\n",
    "                ccsnorm = rfilt.get_ab_maggies(ccsnflux, wave)\n",
    "                fluxr_ccsn = ccsnorm['decam2014-r'].data\n",
    "\n",
    "\n",
    "                ccsnfactor = fluxr_gal * rfluxratio / fluxr_ccsn\n",
    "\n",
    "\n",
    "                ccsnflux = ccsnfactor * ccsnflux\n",
    "                ccsnfluxes.append(ccsnflux)\n",
    "\n",
    "                totflux = host_flux + ccsnflux\n",
    "                ccsn_host.append((totflux,tileid))\n",
    "        \n",
    "                #ensure a host galaxy isn't used twice\n",
    "                del hosts2[redshift]\n",
    "                keys2.remove(redshift)\n",
    "            \n",
    "        \n",
    "    return ccsnfluxes,ccsn_host"
   ]
  },
  {
   "cell_type": "markdown",
   "id": "50b9ec93-b1f4-4b82-9118-e009ce813b7c",
   "metadata": {},
   "source": [
    "## Instantiate CCSN Models from Vincenzi"
   ]
  },
  {
   "cell_type": "code",
   "execution_count": 20,
   "id": "c5b0b2c2-4b76-42af-8e39-8c1dde972204",
   "metadata": {},
   "outputs": [
    {
     "data": {
      "text/plain": [
       "(6000, 6000, 6000, 6000, 6000, 6000)"
      ]
     },
     "execution_count": 20,
     "metadata": {},
     "output_type": "execute_result"
    }
   ],
   "source": [
    "II= models['Type'] == 'II'\n",
    "IIb= models['Type'] == 'IIb'\n",
    "IIn= models['Type'] == 'IIn'\n",
    "\n",
    "Ib= models['Type'] == 'Ib'\n",
    "Ic= models['Type'] == 'Ic'\n",
    "Ic_BL= models['Type'] == 'Ic-BL'\n",
    "\n",
    "    \n",
    "ii_flux,ii_host = generate_ccsn(models,II,hosts2)\n",
    "iib_flux,iib_host = generate_ccsn(models,IIb,hosts2)\n",
    "iin_flux,iin_host = generate_ccsn(models,IIn,hosts2)\n",
    "ib_flux,ib_host = generate_ccsn(models,Ib,hosts2)\n",
    "ic_flux,ic_host = generate_ccsn(models,Ic,hosts2)\n",
    "icBL_flux,icBL_host = generate_ccsn(models,Ic_BL,hosts2)\n",
    "\n",
    "\n",
    "len(ii_host),len(iib_host),len(iin_host),len(ib_host),len(ic_host),len(icBL_host)"
   ]
  },
  {
   "cell_type": "code",
   "execution_count": 21,
   "id": "64520be3-1b3f-4b90-a3ba-da4c25ee6ab7",
   "metadata": {},
   "outputs": [
    {
     "data": {
      "text/plain": [
       "(7977, 7977)"
      ]
     },
     "execution_count": 21,
     "metadata": {},
     "output_type": "execute_result"
    }
   ],
   "source": [
    "len(hosts2),len(keys2)"
   ]
  },
  {
   "cell_type": "markdown",
   "id": "7b075ced-6181-4d85-aba0-1813207aa847",
   "metadata": {},
   "source": [
    "## Used random selection of hosts, save them to file to keep simulation process consistent"
   ]
  },
  {
   "cell_type": "code",
   "execution_count": 22,
   "id": "c91d7baa-66ab-457a-9b4b-7c036c287e17",
   "metadata": {},
   "outputs": [
    {
     "data": {
      "text/plain": [
       "\"\\nwith open(r'/global/homes/e/esepeku/DESI-Timedomain/ii_host.data', 'wb') as f:\\n    pickle.dump(ii_host, f)\\n    \\nwith open(r'/global/homes/e/esepeku/DESI-Timedomain/iib_host.data', 'wb') as f:\\n    pickle.dump(iib_host, f)\\n    \\nwith open(r'/global/homes/e/esepeku/DESI-Timedomain/iin_host.data', 'wb') as f:\\n    pickle.dump(iin_host, f)\\n    \\nwith open(r'/global/homes/e/esepeku/DESI-Timedomain/ib_host.data', 'wb') as f:\\n    pickle.dump(ib_host, f)\\n    \\nwith open(r'/global/homes/e/esepeku/DESI-Timedomain/ic_host.data', 'wb') as f:\\n    pickle.dump(ic_host, f)\\n    \\nwith open(r'/global/homes/e/esepeku/DESI-Timedomain/icBL_host.data', 'wb') as f:\\n    pickle.dump(icBL_host, f)\\n    \\n    \\n\""
      ]
     },
     "execution_count": 22,
     "metadata": {},
     "output_type": "execute_result"
    }
   ],
   "source": [
    "\"\"\"\n",
    "with open(r'/global/homes/e/esepeku/DESI-Timedomain/ii_host.data', 'wb') as f:\n",
    "    pickle.dump(ii_host, f)\n",
    "    \n",
    "with open(r'/global/homes/e/esepeku/DESI-Timedomain/iib_host.data', 'wb') as f:\n",
    "    pickle.dump(iib_host, f)\n",
    "    \n",
    "with open(r'/global/homes/e/esepeku/DESI-Timedomain/iin_host.data', 'wb') as f:\n",
    "    pickle.dump(iin_host, f)\n",
    "    \n",
    "with open(r'/global/homes/e/esepeku/DESI-Timedomain/ib_host.data', 'wb') as f:\n",
    "    pickle.dump(ib_host, f)\n",
    "    \n",
    "with open(r'/global/homes/e/esepeku/DESI-Timedomain/ic_host.data', 'wb') as f:\n",
    "    pickle.dump(ic_host, f)\n",
    "    \n",
    "with open(r'/global/homes/e/esepeku/DESI-Timedomain/icBL_host.data', 'wb') as f:\n",
    "    pickle.dump(icBL_host, f)\n",
    "    \n",
    "    \n",
    "\"\"\""
   ]
  },
  {
   "cell_type": "code",
   "execution_count": null,
   "id": "ab8ee8a7-5c1d-4ebf-a72c-08f4b8763aa5",
   "metadata": {},
   "outputs": [],
   "source": []
  },
  {
   "cell_type": "markdown",
   "id": "2f5a33b4-d537-42da-a30c-ad4bc1b3409c",
   "metadata": {
    "tags": []
   },
   "source": [
    "### Instantiate Type Ia SNe models from hsiao models"
   ]
  },
  {
   "cell_type": "code",
   "execution_count": null,
   "id": "0516c2c2-c68d-4a06-ad5f-23992dcb61fb",
   "metadata": {},
   "outputs": [],
   "source": [
    "source = sncosmo.get_source('hsiao', version='2.0')\n",
    "ccsn = sncosmo.Model(source=source)\n",
    "ia_fluxes=[]\n",
    "ia_host=[]\n",
    "n=6000\n",
    "\n",
    "for i in range (n):\n",
    "    \n",
    "       redshift = random.choice(keys2)\n",
    "       host_flux = hosts2[redshift][0]\n",
    "       flux_r=hosts[redshift][1]\n",
    "       r_gal = 22.5 - 2.5*np.log10(flux_r)\n",
    "         \n",
    "       # Set redshift and apparent magnitude in the r-band, using SDSS filter.\n",
    "       z= float(redshift)\n",
    "       ccsn.set(z=z)\n",
    "       magnitudes=np.round(np.linspace(0,5, 16), 0)\n",
    "       delta_r = np.random.choice(magnitudes, size=1, replace=False)\n",
    "       rfluxratio = 10**(-delta_r/2.5)\n",
    "\n",
    "       #Different phases of SN 14 days prior and after maximum light\n",
    "       tmin = np.maximum(np.round(ccsn.mintime(), 0), -10)\n",
    "       tmax = np.minimum(np.round(ccsn.maxtime(), 0), 28)\n",
    "       times = np.round(np.linspace(tmin, tmax, 16), 0)\n",
    "       t = np.random.choice(times, size=1, replace=False)\n",
    "\n",
    "       ccsn.set_source_peakmag(r_gal, band='desr', magsys='vega')\n",
    "       ccsnflux = ccsn.flux(t, wave) * 1e17 * 0.6 # dummy fiber fraction\n",
    "\n",
    "       galnorm = rfilt.get_ab_maggies(txflux, wave)\n",
    "       fluxr_gal = galnorm['decam2014-r'].data\n",
    "\n",
    "\n",
    "       ccsnorm = rfilt.get_ab_maggies(ccsnflux, wave)\n",
    "       fluxr_ccsn = ccsnorm['decam2014-r'].data\n",
    "\n",
    "\n",
    "       ccsnfactor = fluxr_gal * rfluxratio / fluxr_ccsn\n",
    "\n",
    "\n",
    "       ccsnflux = ccsnfactor * ccsnflux\n",
    "       ia_fluxes.append(ccsnflux)\n",
    "\n",
    "       totflux = host_flux + ccsnflux\n",
    "       ia_host.append(totflux)\n",
    "\n",
    "    \n",
    "len(ia_host)        "
   ]
  },
  {
   "cell_type": "markdown",
   "id": "11d59610-6cbb-43ae-b9d9-36d09cdcf624",
   "metadata": {},
   "source": [
    "### Plot the Redrock Model + Our CCSN Flux"
   ]
  },
  {
   "cell_type": "code",
   "execution_count": 211,
   "id": "640afdaf-3f7b-446b-8b0c-b0c96ebdb8db",
   "metadata": {},
   "outputs": [
    {
     "data": {
      "image/png": "[encoded data removed]",
      "text/plain": [
       "<Figure size 1008x288 with 3 Axes>"
      ]
     },
     "metadata": {
      "needs_background": "light"
     },
     "output_type": "display_data"
    }
   ],
   "source": [
    "fig, axes = plt.subplots(1,3, figsize=(14,4), tight_layout=True, sharex=True, sharey=True)\n",
    "\n",
    "ax = axes[0]\n",
    "ax.plot(wave, hosts['0.29927018531930694'][0], label='redrock model')\n",
    "ax.plot(wave, ii_flux[0], label='CCSN')\n",
    "ax.set(ylabel=r'flux [$10^{-17}$ erg s$^{-1}$ cm$^{-2}$ $\\AA^{-1}$]')\n",
    "ax.legend(fontsize=10)\n",
    "ax.grid(ls=':')\n",
    "\n",
    "ax = axes[1]\n",
    "ax.plot(wave, hosts['0.29927018531930694'][0], label='redrock model')\n",
    "ax.plot(wave, gaussian_filter(hosts['0.29927018531930694'][0], 5), label='smoothed model')\n",
    "ax.set(xlabel=r'wavelength [$\\AA$]')\n",
    "ax.legend(fontsize=10)\n",
    "ax.grid(ls=':');\n",
    "\n",
    "ax = axes[2]\n",
    "ax.plot(wave, ii_host[0][0], label='redrock model + CCSN')\n",
    "ax.set(xlabel=r'wavelength [$\\AA$]')\n",
    "ax.legend(fontsize=10)\n",
    "ax.grid(ls=':')"
   ]
  },
  {
   "cell_type": "markdown",
   "id": "9d8ec76f-3af7-4304-a262-30a4ecaea805",
   "metadata": {},
   "source": [
    "## Simulate the CCSN Model"
   ]
  },
  {
   "cell_type": "code",
   "execution_count": 31,
   "id": "376468c7-7150-48e9-a67b-77e6959278e2",
   "metadata": {},
   "outputs": [],
   "source": [
    "# Get observing conditions.\n",
    "\n",
    "def simulate_model(flux_id,exposure,name):\n",
    "    \n",
    "    \"\"\" Function that generates CCSN model matched with observing conditions using tileids\n",
    "    \n",
    "    Parameters\n",
    "    ----------\n",
    "    \n",
    "    flux_id : Tuple\n",
    "        First element of tuple represents the fluxes\n",
    "        second element of represents the tileid\n",
    "        \n",
    "    exposure   :  Table\n",
    "        Table with observing conditions matched with tileids\n",
    "    \n",
    "    Returns\n",
    "    ----------\n",
    "    specdata : Stacked spectra object        \n",
    "    \n",
    "    \"\"\"\n",
    "    \n",
    "   \n",
    "    \n",
    "    i=0\n",
    "    for fluxes in flux_id:\n",
    "        \n",
    "        \n",
    "        tileid =fluxes[-1]\n",
    "        flux=fluxes[0]\n",
    "        \n",
    "        \n",
    "        exposure_data = expobstab[expobstab['TILEID'] == tileid][0]\n",
    "        obsconditions = {\n",
    "        'SEEING'   : exposure_data['FWHM_ASEC'],\n",
    "        'EXPTIME'  : exposure_data['EXPTIME'],\n",
    "        'AIRMASS'  : exposure_data['AIRMASS'],\n",
    "        'MOONFRAC' : exposure_data['MOON_ILLUMINATION'],\n",
    "        'MOONALT'  : exposure_data['MOON_ZD_DEG'],\n",
    "        'MOONSEP'  : exposure_data['MOON_SEP_DEG']\n",
    "                    }\n",
    "\n",
    "        sim_spectra(wave,flux, program='bright',\n",
    "                spectra_filename='{}_sim{}.fits'.format(name,i),\n",
    "                obsconditions=obsconditions,\n",
    "                sourcetype='bgs'\n",
    "               )\n",
    "        i+=1\n",
    "    return None\n",
    "    "
   ]
  },
  {
   "cell_type": "code",
   "execution_count": null,
   "id": "137939ed-7ebc-4d50-ba2c-e3139b995cbf",
   "metadata": {},
   "outputs": [],
   "source": [
    "#simulate_model(ii_host,expobstab,\"ii\")\n",
    "#simulate_model(iib_host,expobstab,\"IIb\")"
   ]
  },
  {
   "cell_type": "code",
   "execution_count": 17,
   "id": "a9fff697-1eb5-4c68-b00b-60e9192930b7",
   "metadata": {},
   "outputs": [
    {
     "name": "stdout",
     "output_type": "stream",
     "text": [
      "Help on function sim_spectra in module desisim.scripts.quickspectra:\n",
      "\n",
      "sim_spectra(wave, flux, program, spectra_filename, obsconditions=None, sourcetype=None, targetid=None, redshift=None, expid=0, seed=0, skyerr=0.0, ra=None, dec=None, meta=None, fibermap_columns=None, fullsim=False, use_poisson=True, specsim_config_file='desi', dwave_out=None, save_resolution=True)\n",
      "    Simulate spectra from an input set of wavelength and flux and writes a FITS file in the Spectra format that can\n",
      "    be used as input to the redshift fitter.\n",
      "    \n",
      "    Args:\n",
      "        wave : 1D np.array of wavelength in Angstrom (in vacuum) in observer frame (i.e. redshifted)\n",
      "        flux : 1D or 2D np.array. 1D array must have same size as wave, 2D array must have shape[1]=wave.size\n",
      "               flux has to be in units of 10^-17 ergs/s/cm2/A\n",
      "        spectra_filename : path to output FITS file in the Spectra format\n",
      "        program : dark, lrg, qso, gray, grey, elg, bright, mws, bgs\n",
      "            ignored if obsconditions is not None\n",
      "    \n",
      "    Optional:\n",
      "        obsconditions : dictionnary of observation conditions with SEEING EXPTIME AIRMASS MOONFRAC MOONALT MOONSEP\n",
      "        sourcetype : list of string, allowed values are (sky,elg,lrg,qso,bgs,star), type of sources, used for fiber aperture loss , default is star\n",
      "        targetid : list of targetids for each target. default of None has them generated as str(range(nspec))\n",
      "        redshift : list/array with each index being the redshifts for that target\n",
      "        expid : this expid number will be saved in the Spectra fibermap\n",
      "        seed : random seed\n",
      "        skyerr : fractional sky subtraction error\n",
      "        ra : numpy array with targets RA (deg)\n",
      "        dec : numpy array with targets Dec (deg)\n",
      "        meta : dictionnary, saved in primary fits header of the spectra file \n",
      "        fibermap_columns : add these columns to the fibermap\n",
      "        fullsim : if True, write full simulation data in extra file per camera\n",
      "        use_poisson : if False, do not use numpy.random.poisson to simulate the Poisson noise. This is useful to get reproducible random\n",
      "        realizations.\n",
      "        save_resolution : if True it will save the Resolution matrix for each spectra.\n",
      "        If False returns a resolution matrix (useful for mocks to save disk space).\n",
      "\n"
     ]
    }
   ],
   "source": [
    "help(sim_spectra)"
   ]
  },
  {
   "cell_type": "markdown",
   "id": "23959335-0e2f-4b57-9777-f9088ca2b29e",
   "metadata": {},
   "source": [
    "### Read and Plot the Spectra"
   ]
  },
  {
   "cell_type": "code",
   "execution_count": 39,
   "id": "cdf2e2e8-4b2e-4e76-b26a-23d3a32fc845",
   "metadata": {},
   "outputs": [
    {
     "name": "stdout",
     "output_type": "stream",
     "text": [
      "INFO:spectra.py:282:read_spectra: iotime 0.097 sec to read IIb_sim1131.fits at 2021-08-31T11:46:06.803627\n"
     ]
    }
   ],
   "source": [
    "# spectra = read_spectra('test_v19-2009ip-corr.fits')\n",
    "spectra = read_spectra('IIb_sim1131.fits')\n",
    "coadds = coadd_cameras(spectra)"
   ]
  },
  {
   "cell_type": "code",
   "execution_count": 40,
   "id": "9de21322-4306-4699-bb73-ccb332e7bf01",
   "metadata": {},
   "outputs": [
    {
     "data": {
      "image/png": "[encoded data removed]",
      "text/plain": [
       "<Figure size 720x864 with 3 Axes>"
      ]
     },
     "metadata": {
      "needs_background": "light"
     },
     "output_type": "display_data"
    }
   ],
   "source": [
    "from scipy.ndimage import gaussian_filter\n",
    "\n",
    "# fig, axes = plt.subplots(3,1, figsize=(10,12), sharex=True, sharey=True, tight_layout=True)\n",
    "fig, axes = plt.subplots(3,1, figsize=(10,12), sharex=True, tight_layout=True)\n",
    "\n",
    "for band in 'brz':\n",
    "    ax = axes[0]\n",
    "    ax.plot(spectra.wave[band], spectra.flux[band][0], alpha=0.7, label=band)\n",
    "    ax.set(xlim=(wave[0], wave[-1]))\n",
    "#ax.plot(wave, totflux[0], 'k--', label='input flux')\n",
    "ax.legend(loc='upper right', fontsize=12);\n",
    "    \n",
    "ax = axes[1]\n",
    "ax.plot(coadds.wave['brz'], coadds.flux['brz'][0], alpha=0.7, label='brz')\n",
    "#ax.plot(wave, ccsnflux, 'k--', label='coadded')\n",
    "ax.set(ylabel=r'flux [$10^{-17}$ erg s$^{-1}$ cm$^{-2}$ $\\AA^{-1}$]')\n",
    "ax.legend(loc='upper right', fontsize=12)\n",
    "\n",
    "ax = axes[2]\n",
    "smoothed = gaussian_filter(coadds.flux['brz'][0], 3)\n",
    "ax.plot(coadds.wave['brz'], smoothed, alpha=0.7, label='brz')\n",
    "#ax.plot(wave, ccsnflux, 'k--', label='smoothed')\n",
    "ax.set(xlabel=r'wavelength [$\\AA$]',\n",
    "       ylim=(np.floor(0.9*np.min(smoothed)), np.round(1.1*np.max(smoothed), 0)))\n",
    "ax.legend(loc='upper right', fontsize=12);"
   ]
  },
  {
   "cell_type": "code",
   "execution_count": 22,
   "id": "8245adcf-c6be-4c62-a159-a73f0d043f2a",
   "metadata": {},
   "outputs": [
    {
     "data": {
      "text/plain": [
       "{'b': array([3569., 3570., 3571., ..., 5947., 5948., 5949.]),\n",
       " 'r': array([5625., 5626., 5627., ..., 7739., 7740., 7741.]),\n",
       " 'z': array([7435., 7436., 7437., ..., 9832., 9833., 9834.])}"
      ]
     },
     "execution_count": 22,
     "metadata": {},
     "output_type": "execute_result"
    }
   ],
   "source": [
    "spectra.wave"
   ]
  }
 ],
 "metadata": {
  "kernelspec": {
   "display_name": "DESI master",
   "language": "python",
   "name": "desi-master"
  },
  "language_info": {
   "codemirror_mode": {
    "name": "ipython",
    "version": 3
   },
   "file_extension": ".py",
   "mimetype": "text/x-python",
   "name": "python",
   "nbconvert_exporter": "python",
   "pygments_lexer": "ipython3",
   "version": "3.8.3"
  }
 },
 "nbformat": 4,
 "nbformat_minor": 5
}
