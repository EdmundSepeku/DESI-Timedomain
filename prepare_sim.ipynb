{
 "cells": [
  {
   "cell_type": "code",
   "execution_count": 1,
   "id": "9ab7c587-3fdf-4cc5-a69b-7cca8e544dab",
   "metadata": {},
   "outputs": [],
   "source": [
    "import numpy as np\n",
    "import matplotlib as mpl\n",
    "import matplotlib.pyplot as plt\n",
    "import sys\n",
    "\n",
    "\n",
    "from astropy.io import fits\n",
    "from astropy.io import ascii\n",
    "from astropy.table import Table\n",
    "import astropy.units as u\n",
    "\n",
    "import sncosmo"
   ]
  },
  {
   "cell_type": "markdown",
   "id": "4a042a6b-4ab5-4393-8485-c12525b1e33d",
   "metadata": {},
   "source": [
    "Remove blacklisted models and create an array of models to be used in simulations"
   ]
  },
  {
   "cell_type": "code",
   "execution_count": 2,
   "id": "ad93a77c-35f9-4999-82b2-753748a379bd",
   "metadata": {},
   "outputs": [],
   "source": [
    "modtab = Table.read('vincenzi_2019_models.fits')\n",
    "faulty=('SN2013by','SN2013fs','SN2009bw','SN2012aw','SN2009kr','ASASSN14jb','SN2013am','SN2008ax','SN2008fq','SN2009ip','IPTF13bvn','SN2008D','SN1994I',\n",
    "'SN2007gr','SN2009bb','SN2007ru')\n",
    "faulty=set(faulty)"
   ]
  },
  {
   "cell_type": "code",
   "execution_count": 3,
   "id": "a58d8f69-2150-4998-ad01-c5c6cb045d7a",
   "metadata": {},
   "outputs": [],
   "source": [
    "typeii=[]\n",
    "names=[]\n",
    "select = modtab['Type'] == 'II'\n",
    "for mod in modtab[select]:\n",
    "    nm = mod['Name']\n",
    "    tp = mod['Type']\n",
    "    \n",
    "    if nm in faulty:\n",
    "        pass\n",
    "    else:\n",
    "         # Get the corresponding sncosmo model with host dust correction applied.\n",
    "        if nm.startswith('SN'):\n",
    "            model_name = 'v19-{}-corr'.format(nm[2:].lower())\n",
    "            model = sncosmo.Model(model_name)\n",
    "            model.set(z=0., amplitude=1e-5, t0=0.)\n",
    "            typeii.append(model)\n",
    "            names.append(nm)\n",
    "            \n",
    "        else:\n",
    "            model_name = 'v19-{}-corr'.format(nm.lower())\n",
    "            model = sncosmo.Model(model_name)\n",
    "            model.set(z=0., amplitude=1e-5, t0=0.)\n",
    "            typeii.append(model)\n",
    "            names.append(nm)\n",
    "        \n",
    "            \n",
    "       \n",
    "\n",
    "   "
   ]
  },
  {
   "cell_type": "code",
   "execution_count": 4,
   "id": "e22c9bce-6c0e-4fce-a4d1-3d43c48d3856",
   "metadata": {},
   "outputs": [
    {
     "data": {
      "text/plain": [
       "15"
      ]
     },
     "execution_count": 4,
     "metadata": {},
     "output_type": "execute_result"
    }
   ],
   "source": [
    "len(typeii)"
   ]
  },
  {
   "cell_type": "code",
   "execution_count": 6,
   "id": "bdaf8d69-dc48-4d1e-b644-5932abb9e720",
   "metadata": {},
   "outputs": [],
   "source": [
    "def setwave(model,z):\n",
    "    \"\"\"creates waves and fluxes for a given model at different times in its evolution\n",
    "    \n",
    "    Parameters\n",
    "    ----------\n",
    "    model : sncosmo.Model\n",
    "        Model object instantiated for this template.\n",
    "    \n",
    "    Returns\n",
    "    -------\n",
    "    fluxes and wavelengths in separate arrays\n",
    "  \n",
    "    \"\"\"\n",
    "    waves=[]\n",
    "    fluxes=[]\n",
    "    tmin = np.maximum(np.round(model.mintime(), 0), -10)\n",
    "    tmax = np.minimum(np.round(model.maxtime(), 0), 28)\n",
    "    times = np.round(np.linspace(tmin, tmax, 16), 0)\n",
    "    \n",
    "    model.set(z=z, amplitude=1., t0=0.)\n",
    "    \n",
    "    wmin = np.maximum(1650., model.minwave())\n",
    "    wmax = np.minimum(9800., model.maxwave())\n",
    "    wave = np.arange(wmin, wmax)\n",
    "    \n",
    "    for t in times:\n",
    "         flux = model.flux(time=t, wave=wave)\n",
    "            \n",
    "         waves.append(wave)\n",
    "         fluxes.append(flux)\n",
    "        \n",
    "        \n",
    "    return waves,fluxes"
   ]
  },
  {
   "cell_type": "code",
   "execution_count": 72,
   "id": "28a8444b-ea08-4527-9fc5-289884e3466f",
   "metadata": {},
   "outputs": [
    {
     "data": {
      "text/plain": [
       "('ASASSN15oz', 16, 8150, 1.5210827155447562e+17)"
      ]
     },
     "execution_count": 72,
     "metadata": {},
     "output_type": "execute_result"
    }
   ],
   "source": [
    "name=names[0]\n",
    "\n",
    "wave,flux=setwave(typeii[0])\n",
    "a=wave[0]\n",
    "b=flux[0]\n",
    "\n",
    "factor=10e16/max(f)\n",
    "b=b*factor\n",
    "\n",
    "#ascii.write([a,b], 'test.dat', overwrite=True)\n",
    "name,len(wave),len(b),max(b)"
   ]
  },
  {
   "cell_type": "code",
   "execution_count": 67,
   "id": "19df3e9a-e087-409e-a954-a2be9850095f",
   "metadata": {},
   "outputs": [
    {
     "data": {
      "image/png": "[encoded data removed]",
      "text/plain": [
       "<Figure size 432x288 with 1 Axes>"
      ]
     },
     "metadata": {
      "needs_background": "light"
     },
     "output_type": "display_data"
    }
   ],
   "source": [
    "fig, ax = plt.subplots()\n",
    "ax.plot(c,d)\n",
    "ax.set(xlabel=r'$\\lambda_\\mathrm{obs}$ [$\\AA$]',title='SN2014G_sim',xlim=(3500,9000),ylim=(0,3.5e16))#ylim=(-2,100)\n",
    "\n",
    "plt.show()"
   ]
  },
  {
   "cell_type": "code",
   "execution_count": 7,
   "id": "e26bbb40-ad2c-41c4-a008-87e413d7f1df",
   "metadata": {},
   "outputs": [],
   "source": [
    "def write_models(types,names,z):\n",
    "    \n",
    "    for i in range (len(typeii)):\n",
    "        name=names[i]\n",
    "        wave,fluxes=setwave(typeii[i],z)\n",
    "        a=wave[0]\n",
    "        \n",
    "        flux=[]\n",
    "        for fl in fluxes:\n",
    "            factor=10e16/max(fl)\n",
    "            fl=fl*factor\n",
    "            flux.append(fl)\n",
    "            \n",
    "        t0,t1,t2,t3,t4,t5,t6,t7,t8,t9,t10,t11,t12,t13,t14,t15=flux[0],flux[1],flux[2],flux[3],flux[4],flux[5],flux[6],flux[7],flux[8],flux[9],flux[10],flux[11],flux[12],flux[13],flux[14],flux[15]\n",
    "    \n",
    "        ascii.write([a,t0,t1,t2,t3,t4,t5,t6,t7,t8,t9,t10,t11,t12,t13,t14,t15], '{}.{}.dat'.format(name,z), overwrite=True)\n",
    "    \n",
    "    \n",
    "   \n"
   ]
  },
  {
   "cell_type": "code",
   "execution_count": 8,
   "id": "69df3e90-3aa5-4b66-85c8-a9788962fbb7",
   "metadata": {},
   "outputs": [],
   "source": [
    "write_models(typeii,names,0.015930)"
   ]
  },
  {
   "cell_type": "code",
   "execution_count": null,
   "id": "f33aa99d-2ee9-4454-8031-23c435e110b0",
   "metadata": {},
   "outputs": [],
   "source": []
  }
 ],
 "metadata": {
  "kernelspec": {
   "display_name": "DESI master",
   "language": "python",
   "name": "desi-master"
  },
  "language_info": {
   "codemirror_mode": {
    "name": "ipython",
    "version": 3
   },
   "file_extension": ".py",
   "mimetype": "text/x-python",
   "name": "python",
   "nbconvert_exporter": "python",
   "pygments_lexer": "ipython3",
   "version": "3.8.3"
  }
 },
 "nbformat": 4,
 "nbformat_minor": 5
}
